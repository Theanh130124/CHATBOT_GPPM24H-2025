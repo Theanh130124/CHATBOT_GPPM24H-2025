{
  "cells": [
    {
      "cell_type": "code",
      "source": [
        "!pip install kagglehub tensorflow matplotlib seaborn scikit-learn pillow"
      ],
      "metadata": {
        "id": "XIoToob75P1q",
        "outputId": "15b066f8-d08d-400a-ded4-e17b7e2d9284",
        "colab": {
          "base_uri": "https://localhost:8080/"
        }
      },
      "id": "XIoToob75P1q",
      "execution_count": 1,
      "outputs": [
        {
          "output_type": "stream",
          "name": "stdout",
          "text": [
            "Requirement already satisfied: kagglehub in /usr/local/lib/python3.12/dist-packages (0.3.13)\n",
            "Requirement already satisfied: tensorflow in /usr/local/lib/python3.12/dist-packages (2.19.0)\n",
            "Requirement already satisfied: matplotlib in /usr/local/lib/python3.12/dist-packages (3.10.0)\n",
            "Requirement already satisfied: seaborn in /usr/local/lib/python3.12/dist-packages (0.13.2)\n",
            "Requirement already satisfied: scikit-learn in /usr/local/lib/python3.12/dist-packages (1.6.1)\n",
            "Requirement already satisfied: pillow in /usr/local/lib/python3.12/dist-packages (11.3.0)\n",
            "Requirement already satisfied: packaging in /usr/local/lib/python3.12/dist-packages (from kagglehub) (25.0)\n",
            "Requirement already satisfied: pyyaml in /usr/local/lib/python3.12/dist-packages (from kagglehub) (6.0.3)\n",
            "Requirement already satisfied: requests in /usr/local/lib/python3.12/dist-packages (from kagglehub) (2.32.4)\n",
            "Requirement already satisfied: tqdm in /usr/local/lib/python3.12/dist-packages (from kagglehub) (4.67.1)\n",
            "Requirement already satisfied: absl-py>=1.0.0 in /usr/local/lib/python3.12/dist-packages (from tensorflow) (1.4.0)\n",
            "Requirement already satisfied: astunparse>=1.6.0 in /usr/local/lib/python3.12/dist-packages (from tensorflow) (1.6.3)\n",
            "Requirement already satisfied: flatbuffers>=24.3.25 in /usr/local/lib/python3.12/dist-packages (from tensorflow) (25.9.23)\n",
            "Requirement already satisfied: gast!=0.5.0,!=0.5.1,!=0.5.2,>=0.2.1 in /usr/local/lib/python3.12/dist-packages (from tensorflow) (0.6.0)\n",
            "Requirement already satisfied: google-pasta>=0.1.1 in /usr/local/lib/python3.12/dist-packages (from tensorflow) (0.2.0)\n",
            "Requirement already satisfied: libclang>=13.0.0 in /usr/local/lib/python3.12/dist-packages (from tensorflow) (18.1.1)\n",
            "Requirement already satisfied: opt-einsum>=2.3.2 in /usr/local/lib/python3.12/dist-packages (from tensorflow) (3.4.0)\n",
            "Requirement already satisfied: protobuf!=4.21.0,!=4.21.1,!=4.21.2,!=4.21.3,!=4.21.4,!=4.21.5,<6.0.0dev,>=3.20.3 in /usr/local/lib/python3.12/dist-packages (from tensorflow) (5.29.5)\n",
            "Requirement already satisfied: setuptools in /usr/local/lib/python3.12/dist-packages (from tensorflow) (75.2.0)\n",
            "Requirement already satisfied: six>=1.12.0 in /usr/local/lib/python3.12/dist-packages (from tensorflow) (1.17.0)\n",
            "Requirement already satisfied: termcolor>=1.1.0 in /usr/local/lib/python3.12/dist-packages (from tensorflow) (3.1.0)\n",
            "Requirement already satisfied: typing-extensions>=3.6.6 in /usr/local/lib/python3.12/dist-packages (from tensorflow) (4.15.0)\n",
            "Requirement already satisfied: wrapt>=1.11.0 in /usr/local/lib/python3.12/dist-packages (from tensorflow) (1.17.3)\n",
            "Requirement already satisfied: grpcio<2.0,>=1.24.3 in /usr/local/lib/python3.12/dist-packages (from tensorflow) (1.75.1)\n",
            "Requirement already satisfied: tensorboard~=2.19.0 in /usr/local/lib/python3.12/dist-packages (from tensorflow) (2.19.0)\n",
            "Requirement already satisfied: keras>=3.5.0 in /usr/local/lib/python3.12/dist-packages (from tensorflow) (3.10.0)\n",
            "Requirement already satisfied: numpy<2.2.0,>=1.26.0 in /usr/local/lib/python3.12/dist-packages (from tensorflow) (2.0.2)\n",
            "Requirement already satisfied: h5py>=3.11.0 in /usr/local/lib/python3.12/dist-packages (from tensorflow) (3.15.0)\n",
            "Requirement already satisfied: ml-dtypes<1.0.0,>=0.5.1 in /usr/local/lib/python3.12/dist-packages (from tensorflow) (0.5.3)\n",
            "Requirement already satisfied: contourpy>=1.0.1 in /usr/local/lib/python3.12/dist-packages (from matplotlib) (1.3.3)\n",
            "Requirement already satisfied: cycler>=0.10 in /usr/local/lib/python3.12/dist-packages (from matplotlib) (0.12.1)\n",
            "Requirement already satisfied: fonttools>=4.22.0 in /usr/local/lib/python3.12/dist-packages (from matplotlib) (4.60.1)\n",
            "Requirement already satisfied: kiwisolver>=1.3.1 in /usr/local/lib/python3.12/dist-packages (from matplotlib) (1.4.9)\n",
            "Requirement already satisfied: pyparsing>=2.3.1 in /usr/local/lib/python3.12/dist-packages (from matplotlib) (3.2.5)\n",
            "Requirement already satisfied: python-dateutil>=2.7 in /usr/local/lib/python3.12/dist-packages (from matplotlib) (2.9.0.post0)\n",
            "Requirement already satisfied: pandas>=1.2 in /usr/local/lib/python3.12/dist-packages (from seaborn) (2.2.2)\n",
            "Requirement already satisfied: scipy>=1.6.0 in /usr/local/lib/python3.12/dist-packages (from scikit-learn) (1.16.2)\n",
            "Requirement already satisfied: joblib>=1.2.0 in /usr/local/lib/python3.12/dist-packages (from scikit-learn) (1.5.2)\n",
            "Requirement already satisfied: threadpoolctl>=3.1.0 in /usr/local/lib/python3.12/dist-packages (from scikit-learn) (3.6.0)\n",
            "Requirement already satisfied: wheel<1.0,>=0.23.0 in /usr/local/lib/python3.12/dist-packages (from astunparse>=1.6.0->tensorflow) (0.45.1)\n",
            "Requirement already satisfied: rich in /usr/local/lib/python3.12/dist-packages (from keras>=3.5.0->tensorflow) (13.9.4)\n",
            "Requirement already satisfied: namex in /usr/local/lib/python3.12/dist-packages (from keras>=3.5.0->tensorflow) (0.1.0)\n",
            "Requirement already satisfied: optree in /usr/local/lib/python3.12/dist-packages (from keras>=3.5.0->tensorflow) (0.17.0)\n",
            "Requirement already satisfied: pytz>=2020.1 in /usr/local/lib/python3.12/dist-packages (from pandas>=1.2->seaborn) (2025.2)\n",
            "Requirement already satisfied: tzdata>=2022.7 in /usr/local/lib/python3.12/dist-packages (from pandas>=1.2->seaborn) (2025.2)\n",
            "Requirement already satisfied: charset_normalizer<4,>=2 in /usr/local/lib/python3.12/dist-packages (from requests->kagglehub) (3.4.4)\n",
            "Requirement already satisfied: idna<4,>=2.5 in /usr/local/lib/python3.12/dist-packages (from requests->kagglehub) (3.11)\n",
            "Requirement already satisfied: urllib3<3,>=1.21.1 in /usr/local/lib/python3.12/dist-packages (from requests->kagglehub) (2.5.0)\n",
            "Requirement already satisfied: certifi>=2017.4.17 in /usr/local/lib/python3.12/dist-packages (from requests->kagglehub) (2025.10.5)\n",
            "Requirement already satisfied: markdown>=2.6.8 in /usr/local/lib/python3.12/dist-packages (from tensorboard~=2.19.0->tensorflow) (3.9)\n",
            "Requirement already satisfied: tensorboard-data-server<0.8.0,>=0.7.0 in /usr/local/lib/python3.12/dist-packages (from tensorboard~=2.19.0->tensorflow) (0.7.2)\n",
            "Requirement already satisfied: werkzeug>=1.0.1 in /usr/local/lib/python3.12/dist-packages (from tensorboard~=2.19.0->tensorflow) (3.1.3)\n",
            "Requirement already satisfied: MarkupSafe>=2.1.1 in /usr/local/lib/python3.12/dist-packages (from werkzeug>=1.0.1->tensorboard~=2.19.0->tensorflow) (3.0.3)\n",
            "Requirement already satisfied: markdown-it-py>=2.2.0 in /usr/local/lib/python3.12/dist-packages (from rich->keras>=3.5.0->tensorflow) (4.0.0)\n",
            "Requirement already satisfied: pygments<3.0.0,>=2.13.0 in /usr/local/lib/python3.12/dist-packages (from rich->keras>=3.5.0->tensorflow) (2.19.2)\n",
            "Requirement already satisfied: mdurl~=0.1 in /usr/local/lib/python3.12/dist-packages (from markdown-it-py>=2.2.0->rich->keras>=3.5.0->tensorflow) (0.1.2)\n"
          ]
        }
      ]
    },
    {
      "cell_type": "code",
      "source": [
        "import os\n",
        "import numpy as np\n",
        "import tensorflow as tf\n",
        "from tensorflow import keras\n",
        "from tensorflow.keras import layers\n",
        "from tensorflow.keras.preprocessing.image import ImageDataGenerator\n",
        "import matplotlib.pyplot as plt\n",
        "import seaborn as sns\n",
        "from sklearn.metrics import classification_report, confusion_matrix\n",
        "import json\n",
        "from PIL import Image\n",
        "import kagglehub"
      ],
      "metadata": {
        "id": "AoC_G4Wco8EX"
      },
      "id": "AoC_G4Wco8EX",
      "execution_count": 2,
      "outputs": []
    },
    {
      "cell_type": "code",
      "source": [
        "import kagglehub\n",
        "\n",
        "# Download latest version\n",
        "path = kagglehub.dataset_download(\"pacificrm/skindiseasedataset\")\n",
        "\n",
        "print(\"Path to dataset files:\", path)"
      ],
      "metadata": {
        "id": "hsUuDzw_vWWM",
        "outputId": "bfab1b5d-4763-4a2d-9197-4cc2d1b39442",
        "colab": {
          "base_uri": "https://localhost:8080/"
        }
      },
      "id": "hsUuDzw_vWWM",
      "execution_count": null,
      "outputs": [
        {
          "output_type": "stream",
          "name": "stdout",
          "text": [
            "Using Colab cache for faster access to the 'skindiseasedataset' dataset.\n",
            "Path to dataset files: /kaggle/input/skindiseasedataset\n"
          ]
        }
      ]
    },
    {
      "cell_type": "code",
      "source": [
        "import kagglehub\n",
        "\n",
        "# Download latest version\n",
        "path = kagglehub.dataset_download(\"ismailpromus/skin-diseases-image-dataset\")\n",
        "\n",
        "print(\"Path to dataset files:\", path)"
      ],
      "metadata": {
        "id": "BNI-xQLfV5lx",
        "outputId": "80f7ef6a-43d9-42bd-a0b1-9075ac6b4f6f",
        "colab": {
          "base_uri": "https://localhost:8080/"
        }
      },
      "id": "BNI-xQLfV5lx",
      "execution_count": 15,
      "outputs": [
        {
          "output_type": "stream",
          "name": "stdout",
          "text": [
            "Using Colab cache for faster access to the 'skin-diseases-image-dataset' dataset.\n",
            "Path to dataset files: /kaggle/input/skin-diseases-image-dataset\n"
          ]
        }
      ]
    },
    {
      "cell_type": "markdown",
      "source": [
        "#Check dataset"
      ],
      "metadata": {
        "id": "qjWLNU8yp18R"
      },
      "id": "qjWLNU8yp18R"
    },
    {
      "cell_type": "code",
      "source": [
        "def explore_directory_structure_detailed(base_path):\n",
        "    print(f\"\\nKHÁM PHÁ CHI TIẾT CẤU TRÚC THƯ MỤC: {base_path}\")\n",
        "\n",
        "    if not os.path.exists(base_path):\n",
        "        print(\"Thư mục không tồn tại\")\n",
        "        return\n",
        "\n",
        "    print(\"\\nCấu trúc thư mục (2 level đầu tiên):\")\n",
        "    for root, dirs, files in os.walk(base_path):\n",
        "        level = root.replace(base_path, '').count(os.sep)\n",
        "        if level <= 2:  # Chỉ hiển thị 2 level đầu\n",
        "            indent = '  ' * level\n",
        "            print(f'{indent} {os.path.basename(root)}/')\n",
        "\n",
        "            # Hiển thị thư mục con\n",
        "            sub_indent = '  ' * (level + 1)\n",
        "            for dir_name in dirs[:10]:\n",
        "                print(f'{sub_indent} {dir_name}/')\n",
        "            if len(dirs) > 10:\n",
        "                print(f'{sub_indent}... và {len(dirs) - 10} thư mục khác')\n",
        "\n",
        "            # Hiển thị file\n",
        "            for file_name in files[:5]:\n",
        "                print(f'{sub_indent} {file_name}')\n",
        "            if len(files) > 5:\n",
        "                print(f'{sub_indent}... và {len(files) - 5} file khác')\n",
        "            print()  # Xuống dòng giữa các thư mục\n",
        "# Khám phá chi tiết\n",
        "explore_directory_structure_detailed(path)\n",
        "def find_data_directories(base_path):\n",
        "    \"\"\"Tìm tất cả các thư mục có thể chứa dữ liệu train/test\"\"\"\n",
        "    possible_train_dirs = []\n",
        "    possible_test_dirs = []\n",
        "\n",
        "    for root, dirs, files in os.walk(base_path):\n",
        "        # Kiểm tra nếu thư mục có vẻ chứa dữ liệu ảnh\n",
        "        if any(keyword in root.lower() for keyword in ['train', 'training']):\n",
        "            possible_train_dirs.append(root)\n",
        "        elif any(keyword in root.lower() for keyword in ['test', 'testing', 'val', 'validation']):\n",
        "            possible_test_dirs.append(root)\n",
        "\n",
        "        # Kiểm tra nếu thư mục có nhiều thư mục con (có thể là classes)\n",
        "        if len(dirs) > 5:\n",
        "            print(f\"Thư mục có nhiều lớp tiềm năng: {root} ({len(dirs)} thư mục con)\")\n",
        "\n",
        "    return possible_train_dirs, possible_test_dirs\n",
        "\n",
        "print(\"\\nĐang tìm thư mục dữ liệu...\")\n",
        "possible_train_dirs, possible_test_dirs = find_data_directories(path)\n",
        "\n",
        "print(f\"\\nCác thư mục train tiềm năng:\")\n",
        "for dir_path in possible_train_dirs[:5]:\n",
        "    print(f\"  - {dir_path}\")\n",
        "\n",
        "print(f\"\\nCác thư mục test tiềm năng:\")\n",
        "for dir_path in possible_test_dirs[:5]:\n",
        "    print(f\"  - {dir_path}\")\n",
        "dermnet_path = os.path.join(path, 'dermnet')\n",
        "if os.path.exists(dermnet_path):\n",
        "    print(f\"\\n Kiểm tra thư mục 'dermnet': {dermnet_path}\")\n",
        "    explore_directory_structure_detailed(dermnet_path)"
      ],
      "metadata": {
        "id": "KJsENRCKplN8",
        "outputId": "d3dc2803-504f-479f-ab08-98da0224c403",
        "colab": {
          "base_uri": "https://localhost:8080/"
        }
      },
      "id": "KJsENRCKplN8",
      "execution_count": 4,
      "outputs": [
        {
          "output_type": "stream",
          "name": "stdout",
          "text": [
            "\n",
            "KHÁM PHÁ CHI TIẾT CẤU TRÚC THƯ MỤC: /kaggle/input/skin-diseases-image-dataset\n",
            "\n",
            "Cấu trúc thư mục (2 level đầu tiên):\n",
            " skin-diseases-image-dataset/\n",
            "   IMG_CLASSES/\n",
            "\n",
            "   IMG_CLASSES/\n",
            "     1. Eczema 1677/\n",
            "     10. Warts Molluscum and other Viral Infections - 2103/\n",
            "     4. Basal Cell Carcinoma (BCC) 3323/\n",
            "     7. Psoriasis pictures Lichen Planus and related diseases - 2k/\n",
            "     5. Melanocytic Nevi (NV) - 7970/\n",
            "     9. Tinea Ringworm Candidiasis and other Fungal Infections - 1.7k/\n",
            "     3. Atopic Dermatitis - 1.25k/\n",
            "     6. Benign Keratosis-like Lesions (BKL) 2624/\n",
            "     8. Seborrheic Keratoses and other Benign Tumors - 1.8k/\n",
            "     2. Melanoma 15.75k/\n",
            "\n",
            "     1. Eczema 1677/\n",
            "       t-factitial-dermatitis-1.jpg\n",
            "       v-eczema-areola-13.jpg\n",
            "       t-eczema-subacute-66.jpg\n",
            "       t-eczema-hand-86.jpg\n",
            "       t-keratolysis-exfoliativa-17.jpg\n",
            "      ... và 1672 file khác\n",
            "\n",
            "     10. Warts Molluscum and other Viral Infections - 2103/\n",
            "       v-herpes-zoster-168.jpg\n",
            "       5_0.jpg\n",
            "       t-herpes-type-1-recurrent-41.jpg\n",
            "       t-herpes-zoster-78.jpg\n",
            "       t-warts-digitate-56.jpg\n",
            "      ... và 2098 file khác\n",
            "\n",
            "     4. Basal Cell Carcinoma (BCC) 3323/\n",
            "       ISIC_0060274.jpg\n",
            "       ISIC_0058084.jpg\n",
            "       ISIC_0072871.jpg\n",
            "       ISIC_0065221.jpg\n",
            "       ISIC_0056737.jpg\n",
            "      ... và 3318 file khác\n",
            "\n",
            "     7. Psoriasis pictures Lichen Planus and related diseases - 2k/\n",
            "       17_21.jpg\n",
            "       5_0.jpg\n",
            "       t-Psoriasis-HIV-6.jpg\n",
            "       t-lichen-planus-148.jpg\n",
            "       v-psoriasis-pustular-generalized-31.jpg\n",
            "      ... và 2050 file khác\n",
            "\n",
            "     5. Melanocytic Nevi (NV) - 7970/\n",
            "       ISIC_0030912.jpg\n",
            "       ISIC_0028933.jpg\n",
            "       ISIC_0030585.jpg\n",
            "       ISIC_0028394.jpg\n",
            "       ISIC_0010192.jpg\n",
            "      ... và 7965 file khác\n",
            "\n",
            "     9. Tinea Ringworm Candidiasis and other Fungal Infections - 1.7k/\n",
            "       5_0.jpg\n",
            "       t-tinea-body-184.jpg\n",
            "       v-tinea-body-150.jpg\n",
            "       v-tinea-versicolor-149.jpg\n",
            "       v-tinea-scalp-31.jpg\n",
            "      ... và 1697 file khác\n",
            "\n",
            "     3. Atopic Dermatitis - 1.25k/\n",
            "       t-05Atopic10064.jpg\n",
            "       5_0.jpg\n",
            "       t-4IMG007.jpg\n",
            "       t-05keratosisPilaris050806.jpg\n",
            "       t-05atopic0228051.jpg\n",
            "      ... và 1252 file khác\n",
            "\n",
            "     6. Benign Keratosis-like Lesions (BKL) 2624/\n",
            "       ISIC_0028100.jpg\n",
            "       ISIC_0027960.jpg\n",
            "       ISIC_0053716.jpg\n",
            "       ISIC_0072901.jpg\n",
            "       ISIC_0065569.jpg\n",
            "      ... và 2074 file khác\n",
            "\n",
            "     8. Seborrheic Keratoses and other Benign Tumors - 1.8k/\n",
            "       t-seborrheic-keratoses-smooth-124.jpg\n",
            "       166_1_11.jpg\n",
            "       t-epidermal-cyst-118.jpg\n",
            "       v-seborrheic-keratoses-smooth-110.jpg\n",
            "       v-seborrheic-keratosis-irritated-105.jpg\n",
            "      ... và 1842 file khác\n",
            "\n",
            "     2. Melanoma 15.75k/\n",
            "       ISIC_7021739.jpg\n",
            "       ISIC_7391454.jpg\n",
            "       ISIC_7059544.jpg\n",
            "       ISIC_6800115.jpg\n",
            "       ISIC_7011745.jpg\n",
            "      ... và 3135 file khác\n",
            "\n",
            "\n",
            "Đang tìm thư mục dữ liệu...\n",
            "Thư mục có nhiều lớp tiềm năng: /kaggle/input/skin-diseases-image-dataset/IMG_CLASSES (10 thư mục con)\n",
            "\n",
            "Các thư mục train tiềm năng:\n",
            "\n",
            "Các thư mục test tiềm năng:\n"
          ]
        }
      ]
    },
    {
      "cell_type": "code",
      "source": [
        "#NEW (chạy clone dataset về tới này)-> Tới #Thiếp lập parameters\n",
        "import shutil\n",
        "from sklearn.model_selection import train_test_split\n",
        "def explore_directory_structure_detailed(base_path):\n",
        "    print(f\"\\nKHÁM PHÁ CHI TIẾT CẤU TRÚC THƯ MỤC: {base_path}\")\n",
        "\n",
        "    if not os.path.exists(base_path):\n",
        "        print(\"Thư mục không tồn tại\")\n",
        "        return\n",
        "\n",
        "    print(\"\\nCấu trúc thư mục (2 level đầu tiên):\")\n",
        "    for root, dirs, files in os.walk(base_path):\n",
        "        level = root.replace(base_path, '').count(os.sep)\n",
        "        if level <= 2:  # Chỉ hiển thị 2 level đầu\n",
        "            indent = '  ' * level\n",
        "            print(f'{indent} {os.path.basename(root)}/')\n",
        "\n",
        "            # Hiển thị thư mục con\n",
        "            sub_indent = '  ' * (level + 1)\n",
        "            for dir_name in dirs[:10]:\n",
        "                print(f'{sub_indent} {dir_name}/')\n",
        "            if len(dirs) > 10:\n",
        "                print(f'{sub_indent}... và {len(dirs) - 10} thư mục khác')\n",
        "\n",
        "            # Hiển thị file\n",
        "            for file_name in files[:5]:\n",
        "                print(f'{sub_indent} {file_name}')\n",
        "            if len(files) > 5:\n",
        "                print(f'{sub_indent}... và {len(files) - 5} file khác')\n",
        "            print()  # Xuống dòng giữa các thư mục\n",
        "\n",
        "# Khám phá chi tiết\n",
        "explore_directory_structure_detailed(path)\n",
        "\n",
        "\"\"\"# TỰ CHIA DỮ LIỆU THÀNH TRAIN/TEST\"\"\"\n",
        "\n",
        "# Xác định đường dẫn dữ liệu gốc\n",
        "data_path = os.path.join(path, \"IMG_CLASSES\")\n",
        "print(f\"Data path: {data_path}\")\n",
        "\n",
        "# Tạo thư mục train/test\n",
        "base_dir = '/kaggle/working/skin_disease_split'\n",
        "train_dir = os.path.join(base_dir, 'train')\n",
        "test_dir = os.path.join(base_dir, 'test')\n",
        "\n",
        "# Xóa thư mục cũ nếu tồn tại\n",
        "if os.path.exists(base_dir):\n",
        "    shutil.rmtree(base_dir)\n",
        "\n",
        "# Tạo thư mục mới\n",
        "os.makedirs(train_dir, exist_ok=True)\n",
        "os.makedirs(test_dir, exist_ok=True)\n",
        "\n",
        "# Lấy danh sách class names từ dữ liệu gốc\n",
        "class_names = sorted([d for d in os.listdir(data_path)\n",
        "                     if os.path.isdir(os.path.join(data_path, d))])\n",
        "NUM_CLASSES = len(class_names)\n",
        "\n",
        "print(f\"\\nTHÔNG TIN DATASET GỐC:\")\n",
        "print(f\"   Số lớp: {NUM_CLASSES}\")\n",
        "print(f\"   Danh sách lớp: {class_names}\")\n",
        "\n",
        "# Tỷ lệ chia train/test\n",
        "TEST_SPLIT = 0.2  # 20% cho test, 80% cho train\n",
        "\n",
        "print(f\"\\nĐang chia dữ liệu...\")\n",
        "total_train = 0\n",
        "total_test = 0\n",
        "\n",
        "for class_name in class_names:\n",
        "    # Tạo thư mục class trong train và test\n",
        "    os.makedirs(os.path.join(train_dir, class_name), exist_ok=True)\n",
        "    os.makedirs(os.path.join(test_dir, class_name), exist_ok=True)\n",
        "\n",
        "    # Đường dẫn đến thư mục class gốc\n",
        "    class_path = os.path.join(data_path, class_name)\n",
        "\n",
        "    # Lấy tất cả file ảnh\n",
        "    image_files = [f for f in os.listdir(class_path)\n",
        "                  if f.lower().endswith(('.jpg', '.jpeg', '.png'))]\n",
        "\n",
        "    # Chia thành train và test\n",
        "    train_files, test_files = train_test_split(\n",
        "        image_files,\n",
        "        test_size=TEST_SPLIT,\n",
        "        random_state=42\n",
        "    )\n",
        "\n",
        "    # Copy file vào thư mục train\n",
        "    for file in train_files:\n",
        "        src = os.path.join(class_path, file)\n",
        "        dst = os.path.join(train_dir, class_name, file)\n",
        "        shutil.copy2(src, dst)\n",
        "        total_train += 1\n",
        "\n",
        "    # Copy file vào thư mục test\n",
        "    for file in test_files:\n",
        "        src = os.path.join(class_path, file)\n",
        "        dst = os.path.join(test_dir, class_name, file)\n",
        "        shutil.copy2(src, dst)\n",
        "        total_test += 1\n",
        "\n",
        "    print(f\"   {class_name:60s} | Train: {len(train_files):4d} | Test: {len(test_files):4d}\")\n",
        "\n",
        "print(f\"   {'TOTAL':60s} | Train: {total_train:4d} | Test: {total_test:4d}\")\n",
        "\n",
        "# Cập nhật đường dẫn\n",
        "train_path = train_dir\n",
        "test_path = test_dir\n",
        "\n",
        "print(f\"\\nĐường dẫn mới:\")\n",
        "print(f\"   Train: {train_path}\")\n",
        "print(f\"   Test: {test_path}\")"
      ],
      "metadata": {
        "id": "mPxu55XhXMAn",
        "outputId": "383d9be8-ff67-452a-9bce-e04583982e60",
        "colab": {
          "base_uri": "https://localhost:8080/"
        }
      },
      "id": "mPxu55XhXMAn",
      "execution_count": 18,
      "outputs": [
        {
          "output_type": "stream",
          "name": "stdout",
          "text": [
            "\n",
            "KHÁM PHÁ CHI TIẾT CẤU TRÚC THƯ MỤC: /kaggle/input/skin-diseases-image-dataset\n",
            "\n",
            "Cấu trúc thư mục (2 level đầu tiên):\n",
            " skin-diseases-image-dataset/\n",
            "   IMG_CLASSES/\n",
            "\n",
            "   IMG_CLASSES/\n",
            "     1. Eczema 1677/\n",
            "     10. Warts Molluscum and other Viral Infections - 2103/\n",
            "     4. Basal Cell Carcinoma (BCC) 3323/\n",
            "     7. Psoriasis pictures Lichen Planus and related diseases - 2k/\n",
            "     5. Melanocytic Nevi (NV) - 7970/\n",
            "     9. Tinea Ringworm Candidiasis and other Fungal Infections - 1.7k/\n",
            "     3. Atopic Dermatitis - 1.25k/\n",
            "     6. Benign Keratosis-like Lesions (BKL) 2624/\n",
            "     8. Seborrheic Keratoses and other Benign Tumors - 1.8k/\n",
            "     2. Melanoma 15.75k/\n",
            "\n",
            "     1. Eczema 1677/\n",
            "       t-factitial-dermatitis-1.jpg\n",
            "       v-eczema-areola-13.jpg\n",
            "       t-eczema-subacute-66.jpg\n",
            "       t-eczema-hand-86.jpg\n",
            "       t-keratolysis-exfoliativa-17.jpg\n",
            "      ... và 1672 file khác\n",
            "\n",
            "     10. Warts Molluscum and other Viral Infections - 2103/\n",
            "       v-herpes-zoster-168.jpg\n",
            "       5_0.jpg\n",
            "       t-herpes-type-1-recurrent-41.jpg\n",
            "       t-herpes-zoster-78.jpg\n",
            "       t-warts-digitate-56.jpg\n",
            "      ... và 2098 file khác\n",
            "\n",
            "     4. Basal Cell Carcinoma (BCC) 3323/\n",
            "       ISIC_0060274.jpg\n",
            "       ISIC_0058084.jpg\n",
            "       ISIC_0072871.jpg\n",
            "       ISIC_0065221.jpg\n",
            "       ISIC_0056737.jpg\n",
            "      ... và 3318 file khác\n",
            "\n",
            "     7. Psoriasis pictures Lichen Planus and related diseases - 2k/\n",
            "       17_21.jpg\n",
            "       5_0.jpg\n",
            "       t-Psoriasis-HIV-6.jpg\n",
            "       t-lichen-planus-148.jpg\n",
            "       v-psoriasis-pustular-generalized-31.jpg\n",
            "      ... và 2050 file khác\n",
            "\n",
            "     5. Melanocytic Nevi (NV) - 7970/\n",
            "       ISIC_0030912.jpg\n",
            "       ISIC_0028933.jpg\n",
            "       ISIC_0030585.jpg\n",
            "       ISIC_0028394.jpg\n",
            "       ISIC_0010192.jpg\n",
            "      ... và 7965 file khác\n",
            "\n",
            "     9. Tinea Ringworm Candidiasis and other Fungal Infections - 1.7k/\n",
            "       5_0.jpg\n",
            "       t-tinea-body-184.jpg\n",
            "       v-tinea-body-150.jpg\n",
            "       v-tinea-versicolor-149.jpg\n",
            "       v-tinea-scalp-31.jpg\n",
            "      ... và 1697 file khác\n",
            "\n",
            "     3. Atopic Dermatitis - 1.25k/\n",
            "       t-05Atopic10064.jpg\n",
            "       5_0.jpg\n",
            "       t-4IMG007.jpg\n",
            "       t-05keratosisPilaris050806.jpg\n",
            "       t-05atopic0228051.jpg\n",
            "      ... và 1252 file khác\n",
            "\n",
            "     6. Benign Keratosis-like Lesions (BKL) 2624/\n",
            "       ISIC_0028100.jpg\n",
            "       ISIC_0027960.jpg\n",
            "       ISIC_0053716.jpg\n",
            "       ISIC_0072901.jpg\n",
            "       ISIC_0065569.jpg\n",
            "      ... và 2074 file khác\n",
            "\n",
            "     8. Seborrheic Keratoses and other Benign Tumors - 1.8k/\n",
            "       t-seborrheic-keratoses-smooth-124.jpg\n",
            "       166_1_11.jpg\n",
            "       t-epidermal-cyst-118.jpg\n",
            "       v-seborrheic-keratoses-smooth-110.jpg\n",
            "       v-seborrheic-keratosis-irritated-105.jpg\n",
            "      ... và 1842 file khác\n",
            "\n",
            "     2. Melanoma 15.75k/\n",
            "       ISIC_7021739.jpg\n",
            "       ISIC_7391454.jpg\n",
            "       ISIC_7059544.jpg\n",
            "       ISIC_6800115.jpg\n",
            "       ISIC_7011745.jpg\n",
            "      ... và 3135 file khác\n",
            "\n",
            "Data path: /kaggle/input/skin-diseases-image-dataset/IMG_CLASSES\n",
            "\n",
            "THÔNG TIN DATASET GỐC:\n",
            "   Số lớp: 10\n",
            "   Danh sách lớp: ['1. Eczema 1677', '10. Warts Molluscum and other Viral Infections - 2103', '2. Melanoma 15.75k', '3. Atopic Dermatitis - 1.25k', '4. Basal Cell Carcinoma (BCC) 3323', '5. Melanocytic Nevi (NV) - 7970', '6. Benign Keratosis-like Lesions (BKL) 2624', '7. Psoriasis pictures Lichen Planus and related diseases - 2k', '8. Seborrheic Keratoses and other Benign Tumors - 1.8k', '9. Tinea Ringworm Candidiasis and other Fungal Infections - 1.7k']\n",
            "\n",
            "Đang chia dữ liệu...\n",
            "   1. Eczema 1677                                               | Train: 1341 | Test:  336\n",
            "   10. Warts Molluscum and other Viral Infections - 2103        | Train: 1682 | Test:  421\n",
            "   2. Melanoma 15.75k                                           | Train: 2512 | Test:  628\n",
            "   3. Atopic Dermatitis - 1.25k                                 | Train: 1005 | Test:  252\n",
            "   4. Basal Cell Carcinoma (BCC) 3323                           | Train: 2658 | Test:  665\n",
            "   5. Melanocytic Nevi (NV) - 7970                              | Train: 6376 | Test: 1594\n",
            "   6. Benign Keratosis-like Lesions (BKL) 2624                  | Train: 1663 | Test:  416\n",
            "   7. Psoriasis pictures Lichen Planus and related diseases - 2k | Train: 1644 | Test:  411\n",
            "   8. Seborrheic Keratoses and other Benign Tumors - 1.8k       | Train: 1477 | Test:  370\n",
            "   9. Tinea Ringworm Candidiasis and other Fungal Infections - 1.7k | Train: 1361 | Test:  341\n",
            "   TOTAL                                                        | Train: 21719 | Test: 5434\n",
            "\n",
            "Đường dẫn mới:\n",
            "   Train: /kaggle/working/skin_disease_split/train\n",
            "   Test: /kaggle/working/skin_disease_split/test\n"
          ]
        }
      ]
    },
    {
      "cell_type": "markdown",
      "source": [
        "#Path final"
      ],
      "metadata": {
        "id": "u1odksds9FkT"
      },
      "id": "u1odksds9FkT"
    },
    {
      "cell_type": "code",
      "source": [
        "def find_correct_paths(base_path):\n",
        "    \"\"\"Tìm đường dẫn chính xác cho train và test data\"\"\"\n",
        "\n",
        "    # Các pattern có thể\n",
        "    patterns = [\n",
        "\n",
        "        {'train': ['train'], 'test': ['test']},\n",
        "\n",
        "        {'train': ['train'], 'test': ['test', 'valid', 'validation']},\n",
        "\n",
        "        {'train': ['data', 'train'], 'test': ['data', 'test']},\n",
        "    ]\n",
        "\n",
        "    for pattern in patterns:\n",
        "        train_candidates = pattern['train']\n",
        "        test_candidates = pattern['test']\n",
        "\n",
        "        for train_candidate in train_candidates:\n",
        "            for test_candidate in test_candidates:\n",
        "                train_path = base_path\n",
        "                test_path = base_path\n",
        "\n",
        "                # Thử các combination\n",
        "                for part in train_candidate.split('/'):\n",
        "                    train_path = os.path.join(train_path, part)\n",
        "                for part in test_candidate.split('/'):\n",
        "                    test_path = os.path.join(test_path, part)\n",
        "\n",
        "                if os.path.exists(train_path) and os.path.exists(test_path):\n",
        "                    # Kiểm tra xem có chứa thư mục con không (classes)\n",
        "                    train_subdirs = [d for d in os.listdir(train_path)\n",
        "                                   if os.path.isdir(os.path.join(train_path, d))]\n",
        "                    test_subdirs = [d for d in os.listdir(test_path)\n",
        "                                  if os.path.isdir(os.path.join(test_path, d))]\n",
        "\n",
        "                    if len(train_subdirs) > 0 and len(test_subdirs) > 0:\n",
        "                        print(f\" Tìm thấy cấu trúc phù hợp!\")\n",
        "                        print(f\"   Train: {train_path} ({len(train_subdirs)} classes)\")\n",
        "                        print(f\"   Test: {test_path} ({len(test_subdirs)} classes)\")\n",
        "                        return train_path, test_path\n",
        "\n",
        "    # Nếu không tìm thấy bằng pattern, thử tìm thủ công\n",
        "    print(\"\\nTìm kiếm thủ công...\")\n",
        "    for root, dirs, files in os.walk(base_path):\n",
        "        if len(dirs) > 10:\n",
        "            print(f\"Thư mục có {len(dirs)} lớp: {root}\")\n",
        "            parent_dir = os.path.dirname(root)\n",
        "            sibling_dirs = [d for d in os.listdir(parent_dir)\n",
        "                          if os.path.isdir(os.path.join(parent_dir, d))] if parent_dir != base_path else []\n",
        "\n",
        "            if len(sibling_dirs) >= 2:\n",
        "                print(f\"   Các thư mục cùng cấp: {sibling_dirs}\")\n",
        "\n",
        "    return None, None\n",
        "\n",
        "print(\"\\n Đang tìm đường dẫn chính xác...\")\n",
        "train_path, test_path = find_correct_paths(path)\n",
        "if train_path is None:\n",
        "    print(\"\\nThử đường dẫn trực tiếp...\")\n",
        "    direct_paths = [\n",
        "        path,\n",
        "        os.path.join(path, 'dermnet'),\n",
        "        os.path.join(path, 'data'),\n",
        "        os.path.join(path, 'DermNet'),\n",
        "    ]\n",
        "\n",
        "    for base in direct_paths:\n",
        "        if os.path.exists(base):\n",
        "            items = os.listdir(base)\n",
        "            print(f\"Nội dung của {base}:\")\n",
        "            for item in items:\n",
        "                item_path = os.path.join(base, item)\n",
        "                if os.path.isdir(item_path):\n",
        "                    num_subitems = len(os.listdir(item_path))\n",
        "                    print(f\"{item}/ ({num_subitems} items)\")\n",
        "                else:\n",
        "                    print(f\"{item}\")\n",
        "            print()"
      ],
      "metadata": {
        "id": "qIjEptQtxu3E",
        "outputId": "50771c78-2ffa-4b11-9bc0-5721c59599ed",
        "colab": {
          "base_uri": "https://localhost:8080/"
        }
      },
      "id": "qIjEptQtxu3E",
      "execution_count": 12,
      "outputs": [
        {
          "output_type": "stream",
          "name": "stdout",
          "text": [
            "\n",
            " Đang tìm đường dẫn chính xác...\n",
            "\n",
            "Tìm kiếm thủ công...\n",
            "\n",
            "Thử đường dẫn trực tiếp...\n",
            "Nội dung của /kaggle/input/skin-diseases-image-dataset:\n",
            "IMG_CLASSES/ (10 items)\n",
            "\n"
          ]
        }
      ]
    },
    {
      "cell_type": "code",
      "source": [
        "# Lấy danh sách class names\n",
        "class_names = sorted([d for d in os.listdir(train_path)\n",
        "                     if os.path.isdir(os.path.join(train_path, d))])\n",
        "NUM_CLASSES = len(class_names)  #số nhãn\n",
        "\n",
        "print(f\"\\nTHÔNG TIN DATASET:\")\n",
        "print(f\"   Số lớp: {NUM_CLASSES}\")\n",
        "print(f\"   Danh sách lớp: {class_names}\")\n",
        "\n",
        "\n",
        "print(f\"\\nSỐ LƯỢNG ẢNH TRONG MỖI LỚP:\")\n",
        "total_train = 0\n",
        "total_test = 0\n",
        "\n",
        "for class_name in class_names:\n",
        "    train_class_path = os.path.join(train_path, class_name)\n",
        "    test_class_path = os.path.join(test_path, class_name)\n",
        "\n",
        "    train_count = len([f for f in os.listdir(train_class_path)\n",
        "                      if f.lower().endswith(('.jpg', '.jpeg', '.png'))])\n",
        "    test_count = len([f for f in os.listdir(test_class_path)\n",
        "                     if f.lower().endswith(('.jpg', '.jpeg', '.png'))])\n",
        "\n",
        "    total_train += train_count\n",
        "    total_test += test_count\n",
        "    print(f\"   {class_name:25s} | Train: {train_count:4d} | Test: {test_count:4d}\")\n",
        "\n",
        "print(f\"   {'TOTAL':25s} | Train: {total_train:4d} | Test: {total_test:4d}\")"
      ],
      "metadata": {
        "id": "PVtIcfTZ90ma",
        "outputId": "8efc800c-a507-4117-ef9d-141a75a7e65d",
        "colab": {
          "base_uri": "https://localhost:8080/",
          "height": 245
        }
      },
      "id": "PVtIcfTZ90ma",
      "execution_count": 13,
      "outputs": [
        {
          "output_type": "error",
          "ename": "TypeError",
          "evalue": "expected str, bytes or os.PathLike object, not NoneType",
          "traceback": [
            "\u001b[0;31m---------------------------------------------------------------------------\u001b[0m",
            "\u001b[0;31mTypeError\u001b[0m                                 Traceback (most recent call last)",
            "\u001b[0;32m/tmp/ipython-input-2749928721.py\u001b[0m in \u001b[0;36m<cell line: 0>\u001b[0;34m()\u001b[0m\n\u001b[1;32m      1\u001b[0m \u001b[0;31m# Lấy danh sách class names\u001b[0m\u001b[0;34m\u001b[0m\u001b[0;34m\u001b[0m\u001b[0m\n\u001b[1;32m      2\u001b[0m class_names = sorted([d for d in os.listdir(train_path)\n\u001b[0;32m----> 3\u001b[0;31m                      if os.path.isdir(os.path.join(train_path, d))])\n\u001b[0m\u001b[1;32m      4\u001b[0m \u001b[0mNUM_CLASSES\u001b[0m \u001b[0;34m=\u001b[0m \u001b[0mlen\u001b[0m\u001b[0;34m(\u001b[0m\u001b[0mclass_names\u001b[0m\u001b[0;34m)\u001b[0m  \u001b[0;31m#số nhãn\u001b[0m\u001b[0;34m\u001b[0m\u001b[0;34m\u001b[0m\u001b[0m\n\u001b[1;32m      5\u001b[0m \u001b[0;34m\u001b[0m\u001b[0m\n",
            "\u001b[0;32m/usr/lib/python3.12/posixpath.py\u001b[0m in \u001b[0;36mjoin\u001b[0;34m(a, *p)\u001b[0m\n",
            "\u001b[0;31mTypeError\u001b[0m: expected str, bytes or os.PathLike object, not NoneType"
          ]
        }
      ]
    },
    {
      "cell_type": "markdown",
      "source": [
        "#Thiếp lập parameters"
      ],
      "metadata": {
        "id": "y8QKrn37-RYO"
      },
      "id": "y8QKrn37-RYO"
    },
    {
      "cell_type": "code",
      "source": [
        "IMG_SIZE = (224, 224)\n",
        "BATCH_SIZE = 32\n",
        "EPOCHS = 10"
      ],
      "metadata": {
        "id": "19zaZCTv-PFu"
      },
      "id": "19zaZCTv-PFu",
      "execution_count": 27,
      "outputs": []
    },
    {
      "cell_type": "markdown",
      "source": [
        "#Chuẩn bị Data Generators\n"
      ],
      "metadata": {
        "id": "DZRo93Da-oFa"
      },
      "id": "DZRo93Da-oFa"
    },
    {
      "cell_type": "code",
      "source": [
        "train_datagen = ImageDataGenerator(\n",
        "    rescale=1./255,\n",
        "    rotation_range=20,\n",
        "    width_shift_range=0.2,\n",
        "    height_shift_range=0.2,\n",
        "    shear_range=0.2,\n",
        "    zoom_range=0.2,\n",
        "    horizontal_flip=True,\n",
        "    fill_mode='nearest',\n",
        "    validation_split=0.2  # 20% cho validation\n",
        ")\n",
        "\n",
        "\n",
        "val_test_datagen = ImageDataGenerator(rescale=1./255)\n",
        "\n",
        "# Tạo data generators\n",
        "train_generator = train_datagen.flow_from_directory(\n",
        "    train_path,\n",
        "    target_size=IMG_SIZE,\n",
        "    batch_size=BATCH_SIZE,\n",
        "    class_mode='categorical',\n",
        "    subset='training',\n",
        "    shuffle=True\n",
        ")\n",
        "\n",
        "validation_generator = train_datagen.flow_from_directory(\n",
        "    train_path,\n",
        "    target_size=IMG_SIZE,\n",
        "    batch_size=BATCH_SIZE,\n",
        "    class_mode='categorical',\n",
        "    subset='validation',\n",
        "    shuffle=True\n",
        ")\n",
        "\n",
        "test_generator = val_test_datagen.flow_from_directory(\n",
        "    test_path,\n",
        "    target_size=IMG_SIZE,\n",
        "    batch_size=BATCH_SIZE,\n",
        "    class_mode='categorical',\n",
        "    shuffle=False\n",
        ")\n",
        "\n"
      ],
      "metadata": {
        "id": "EKfWx2QR-KxG",
        "outputId": "4b3524de-8ed7-4faf-da06-0e23d69479d4",
        "colab": {
          "base_uri": "https://localhost:8080/"
        }
      },
      "id": "EKfWx2QR-KxG",
      "execution_count": 20,
      "outputs": [
        {
          "output_type": "stream",
          "name": "stdout",
          "text": [
            "Found 17379 images belonging to 10 classes.\n",
            "Found 4340 images belonging to 10 classes.\n",
            "Found 5434 images belonging to 10 classes.\n"
          ]
        }
      ]
    },
    {
      "cell_type": "markdown",
      "source": [
        "#SHOW IMAGE TRONG DATASET"
      ],
      "metadata": {
        "id": "0dOS29KDAfJH"
      },
      "id": "0dOS29KDAfJH"
    },
    {
      "cell_type": "code",
      "source": [
        "def plot_sample_images(generator, class_names):\n",
        "    \"\"\"Hiển thị một số ảnh mẫu từ generator\"\"\"\n",
        "    plt.figure(figsize=(15, 10))\n",
        "\n",
        "    # Lấy một batch ảnh\n",
        "    images, labels = next(generator)\n",
        "\n",
        "\n",
        "    for i in range(12):\n",
        "        plt.subplot(3, 4, i + 1)\n",
        "        plt.imshow(images[i])\n",
        "        label_idx = np.argmax(labels[i])\n",
        "        plt.title(f'{class_names[label_idx]}', fontsize=10)\n",
        "        plt.axis('off')\n",
        "\n",
        "    plt.tight_layout()\n",
        "    plt.show()\n",
        "\n",
        "# # Hiển thị ảnh từ training set\n",
        "# plot_sample_images(train_generator, class_names)"
      ],
      "metadata": {
        "id": "1kXtQg8yAXb-"
      },
      "id": "1kXtQg8yAXb-",
      "execution_count": 22,
      "outputs": []
    },
    {
      "cell_type": "markdown",
      "source": [
        "#BUILD MODEL CNN\n"
      ],
      "metadata": {
        "id": "lUC3uwQoAq_I"
      },
      "id": "lUC3uwQoAq_I"
    },
    {
      "cell_type": "code",
      "source": [
        "def create_cnn_model(input_shape=(224, 224, 3), num_classes=NUM_CLASSES):\n",
        "    model = keras.Sequential([\n",
        "        # Block 1\n",
        "        layers.Conv2D(32, (3, 3), activation='relu', padding='same', input_shape=input_shape), #32 filter (3x3) -> 2D ,relu(phi tuyến) bỏ âm , same -> tránh mất pixel khi tích chập\n",
        "        layers.BatchNormalization(),  #Theo lô\n",
        "        layers.Conv2D(32, (3, 3), activation='relu', padding='same'),\n",
        "        layers.BatchNormalization(),\n",
        "        layers.MaxPooling2D(2, 2), #giảm 1/2 size\n",
        "        layers.Dropout(0.25), #bỏ 25% neuron -> trình overfitting\n",
        "\n",
        "        # Block 2 -> về block sau tăng filter học sâu\n",
        "        layers.Conv2D(64, (3, 3), activation='relu', padding='same'),\n",
        "        layers.BatchNormalization(),\n",
        "        layers.Conv2D(64, (3, 3), activation='relu', padding='same'),\n",
        "        layers.BatchNormalization(),\n",
        "        layers.MaxPooling2D(2, 2),\n",
        "        layers.Dropout(0.25),\n",
        "\n",
        "        # Block 3\n",
        "        layers.Conv2D(128, (3, 3), activation='relu', padding='same'),\n",
        "        layers.BatchNormalization(),\n",
        "        layers.Conv2D(128, (3, 3), activation='relu', padding='same'),\n",
        "        layers.BatchNormalization(),\n",
        "        layers.MaxPooling2D(2, 2),\n",
        "        layers.Dropout(0.25),\n",
        "\n",
        "        # Block 4\n",
        "        layers.Conv2D(256, (3, 3), activation='relu', padding='same'),\n",
        "        layers.BatchNormalization(),\n",
        "        layers.Conv2D(256, (3, 3), activation='relu', padding='same'),\n",
        "        layers.BatchNormalization(),\n",
        "        layers.MaxPooling2D(2, 2),\n",
        "        layers.Dropout(0.25),\n",
        "\n",
        "        # Fully Connected -> Như Deep Learning\n",
        "        layers.Flatten(), #2D -> 1D\n",
        "        layers.Dense(512, activation='relu'), #Them 512 neuron\n",
        "        layers.BatchNormalization(),\n",
        "        layers.Dropout(0.5),\n",
        "        layers.Dense(256, activation='relu'),\n",
        "        layers.BatchNormalization(),\n",
        "        layers.Dropout(0.3),\n",
        "        layers.Dense(num_classes, activation='softmax') #số loại đầu ra , đầu ra theo xác suất từng lớp\n",
        "    ])\n",
        "\n",
        "    return model\n",
        "\n",
        "# Tạo model\n",
        "model = create_cnn_model()"
      ],
      "metadata": {
        "id": "ojGmLMMRApII",
        "outputId": "fed86ba7-b19f-4282-abb0-43cf24aabbbe",
        "colab": {
          "base_uri": "https://localhost:8080/"
        }
      },
      "id": "ojGmLMMRApII",
      "execution_count": 23,
      "outputs": [
        {
          "output_type": "stream",
          "name": "stderr",
          "text": [
            "/usr/local/lib/python3.12/dist-packages/keras/src/layers/convolutional/base_conv.py:113: UserWarning: Do not pass an `input_shape`/`input_dim` argument to a layer. When using Sequential models, prefer using an `Input(shape)` object as the first layer in the model instead.\n",
            "  super().__init__(activity_regularizer=activity_regularizer, **kwargs)\n"
          ]
        }
      ]
    },
    {
      "cell_type": "markdown",
      "source": [
        "#Architecture model"
      ],
      "metadata": {
        "id": "inWtXfV5Dqo5"
      },
      "id": "inWtXfV5Dqo5"
    },
    {
      "cell_type": "code",
      "source": [
        "model.compile(\n",
        "    optimizer='adam',\n",
        "    loss='categorical_crossentropy',\n",
        "    metrics=['accuracy']\n",
        ")\n",
        "model.summary()"
      ],
      "metadata": {
        "id": "bZoyWk1HDlyZ",
        "outputId": "38375d1d-f5b8-411e-b4fa-1659e337352e",
        "colab": {
          "base_uri": "https://localhost:8080/",
          "height": 1000
        }
      },
      "id": "bZoyWk1HDlyZ",
      "execution_count": 24,
      "outputs": [
        {
          "output_type": "display_data",
          "data": {
            "text/plain": [
              "\u001b[1mModel: \"sequential\"\u001b[0m\n"
            ],
            "text/html": [
              "<pre style=\"white-space:pre;overflow-x:auto;line-height:normal;font-family:Menlo,'DejaVu Sans Mono',consolas,'Courier New',monospace\"><span style=\"font-weight: bold\">Model: \"sequential\"</span>\n",
              "</pre>\n"
            ]
          },
          "metadata": {}
        },
        {
          "output_type": "display_data",
          "data": {
            "text/plain": [
              "┏━━━━━━━━━━━━━━━━━━━━━━━━━━━━━━━━━┳━━━━━━━━━━━━━━━━━━━━━━━━┳━━━━━━━━━━━━━━━┓\n",
              "┃\u001b[1m \u001b[0m\u001b[1mLayer (type)                   \u001b[0m\u001b[1m \u001b[0m┃\u001b[1m \u001b[0m\u001b[1mOutput Shape          \u001b[0m\u001b[1m \u001b[0m┃\u001b[1m \u001b[0m\u001b[1m      Param #\u001b[0m\u001b[1m \u001b[0m┃\n",
              "┡━━━━━━━━━━━━━━━━━━━━━━━━━━━━━━━━━╇━━━━━━━━━━━━━━━━━━━━━━━━╇━━━━━━━━━━━━━━━┩\n",
              "│ conv2d (\u001b[38;5;33mConv2D\u001b[0m)                 │ (\u001b[38;5;45mNone\u001b[0m, \u001b[38;5;34m224\u001b[0m, \u001b[38;5;34m224\u001b[0m, \u001b[38;5;34m32\u001b[0m)   │           \u001b[38;5;34m896\u001b[0m │\n",
              "├─────────────────────────────────┼────────────────────────┼───────────────┤\n",
              "│ batch_normalization             │ (\u001b[38;5;45mNone\u001b[0m, \u001b[38;5;34m224\u001b[0m, \u001b[38;5;34m224\u001b[0m, \u001b[38;5;34m32\u001b[0m)   │           \u001b[38;5;34m128\u001b[0m │\n",
              "│ (\u001b[38;5;33mBatchNormalization\u001b[0m)            │                        │               │\n",
              "├─────────────────────────────────┼────────────────────────┼───────────────┤\n",
              "│ conv2d_1 (\u001b[38;5;33mConv2D\u001b[0m)               │ (\u001b[38;5;45mNone\u001b[0m, \u001b[38;5;34m224\u001b[0m, \u001b[38;5;34m224\u001b[0m, \u001b[38;5;34m32\u001b[0m)   │         \u001b[38;5;34m9,248\u001b[0m │\n",
              "├─────────────────────────────────┼────────────────────────┼───────────────┤\n",
              "│ batch_normalization_1           │ (\u001b[38;5;45mNone\u001b[0m, \u001b[38;5;34m224\u001b[0m, \u001b[38;5;34m224\u001b[0m, \u001b[38;5;34m32\u001b[0m)   │           \u001b[38;5;34m128\u001b[0m │\n",
              "│ (\u001b[38;5;33mBatchNormalization\u001b[0m)            │                        │               │\n",
              "├─────────────────────────────────┼────────────────────────┼───────────────┤\n",
              "│ max_pooling2d (\u001b[38;5;33mMaxPooling2D\u001b[0m)    │ (\u001b[38;5;45mNone\u001b[0m, \u001b[38;5;34m112\u001b[0m, \u001b[38;5;34m112\u001b[0m, \u001b[38;5;34m32\u001b[0m)   │             \u001b[38;5;34m0\u001b[0m │\n",
              "├─────────────────────────────────┼────────────────────────┼───────────────┤\n",
              "│ dropout (\u001b[38;5;33mDropout\u001b[0m)               │ (\u001b[38;5;45mNone\u001b[0m, \u001b[38;5;34m112\u001b[0m, \u001b[38;5;34m112\u001b[0m, \u001b[38;5;34m32\u001b[0m)   │             \u001b[38;5;34m0\u001b[0m │\n",
              "├─────────────────────────────────┼────────────────────────┼───────────────┤\n",
              "│ conv2d_2 (\u001b[38;5;33mConv2D\u001b[0m)               │ (\u001b[38;5;45mNone\u001b[0m, \u001b[38;5;34m112\u001b[0m, \u001b[38;5;34m112\u001b[0m, \u001b[38;5;34m64\u001b[0m)   │        \u001b[38;5;34m18,496\u001b[0m │\n",
              "├─────────────────────────────────┼────────────────────────┼───────────────┤\n",
              "│ batch_normalization_2           │ (\u001b[38;5;45mNone\u001b[0m, \u001b[38;5;34m112\u001b[0m, \u001b[38;5;34m112\u001b[0m, \u001b[38;5;34m64\u001b[0m)   │           \u001b[38;5;34m256\u001b[0m │\n",
              "│ (\u001b[38;5;33mBatchNormalization\u001b[0m)            │                        │               │\n",
              "├─────────────────────────────────┼────────────────────────┼───────────────┤\n",
              "│ conv2d_3 (\u001b[38;5;33mConv2D\u001b[0m)               │ (\u001b[38;5;45mNone\u001b[0m, \u001b[38;5;34m112\u001b[0m, \u001b[38;5;34m112\u001b[0m, \u001b[38;5;34m64\u001b[0m)   │        \u001b[38;5;34m36,928\u001b[0m │\n",
              "├─────────────────────────────────┼────────────────────────┼───────────────┤\n",
              "│ batch_normalization_3           │ (\u001b[38;5;45mNone\u001b[0m, \u001b[38;5;34m112\u001b[0m, \u001b[38;5;34m112\u001b[0m, \u001b[38;5;34m64\u001b[0m)   │           \u001b[38;5;34m256\u001b[0m │\n",
              "│ (\u001b[38;5;33mBatchNormalization\u001b[0m)            │                        │               │\n",
              "├─────────────────────────────────┼────────────────────────┼───────────────┤\n",
              "│ max_pooling2d_1 (\u001b[38;5;33mMaxPooling2D\u001b[0m)  │ (\u001b[38;5;45mNone\u001b[0m, \u001b[38;5;34m56\u001b[0m, \u001b[38;5;34m56\u001b[0m, \u001b[38;5;34m64\u001b[0m)     │             \u001b[38;5;34m0\u001b[0m │\n",
              "├─────────────────────────────────┼────────────────────────┼───────────────┤\n",
              "│ dropout_1 (\u001b[38;5;33mDropout\u001b[0m)             │ (\u001b[38;5;45mNone\u001b[0m, \u001b[38;5;34m56\u001b[0m, \u001b[38;5;34m56\u001b[0m, \u001b[38;5;34m64\u001b[0m)     │             \u001b[38;5;34m0\u001b[0m │\n",
              "├─────────────────────────────────┼────────────────────────┼───────────────┤\n",
              "│ conv2d_4 (\u001b[38;5;33mConv2D\u001b[0m)               │ (\u001b[38;5;45mNone\u001b[0m, \u001b[38;5;34m56\u001b[0m, \u001b[38;5;34m56\u001b[0m, \u001b[38;5;34m128\u001b[0m)    │        \u001b[38;5;34m73,856\u001b[0m │\n",
              "├─────────────────────────────────┼────────────────────────┼───────────────┤\n",
              "│ batch_normalization_4           │ (\u001b[38;5;45mNone\u001b[0m, \u001b[38;5;34m56\u001b[0m, \u001b[38;5;34m56\u001b[0m, \u001b[38;5;34m128\u001b[0m)    │           \u001b[38;5;34m512\u001b[0m │\n",
              "│ (\u001b[38;5;33mBatchNormalization\u001b[0m)            │                        │               │\n",
              "├─────────────────────────────────┼────────────────────────┼───────────────┤\n",
              "│ conv2d_5 (\u001b[38;5;33mConv2D\u001b[0m)               │ (\u001b[38;5;45mNone\u001b[0m, \u001b[38;5;34m56\u001b[0m, \u001b[38;5;34m56\u001b[0m, \u001b[38;5;34m128\u001b[0m)    │       \u001b[38;5;34m147,584\u001b[0m │\n",
              "├─────────────────────────────────┼────────────────────────┼───────────────┤\n",
              "│ batch_normalization_5           │ (\u001b[38;5;45mNone\u001b[0m, \u001b[38;5;34m56\u001b[0m, \u001b[38;5;34m56\u001b[0m, \u001b[38;5;34m128\u001b[0m)    │           \u001b[38;5;34m512\u001b[0m │\n",
              "│ (\u001b[38;5;33mBatchNormalization\u001b[0m)            │                        │               │\n",
              "├─────────────────────────────────┼────────────────────────┼───────────────┤\n",
              "│ max_pooling2d_2 (\u001b[38;5;33mMaxPooling2D\u001b[0m)  │ (\u001b[38;5;45mNone\u001b[0m, \u001b[38;5;34m28\u001b[0m, \u001b[38;5;34m28\u001b[0m, \u001b[38;5;34m128\u001b[0m)    │             \u001b[38;5;34m0\u001b[0m │\n",
              "├─────────────────────────────────┼────────────────────────┼───────────────┤\n",
              "│ dropout_2 (\u001b[38;5;33mDropout\u001b[0m)             │ (\u001b[38;5;45mNone\u001b[0m, \u001b[38;5;34m28\u001b[0m, \u001b[38;5;34m28\u001b[0m, \u001b[38;5;34m128\u001b[0m)    │             \u001b[38;5;34m0\u001b[0m │\n",
              "├─────────────────────────────────┼────────────────────────┼───────────────┤\n",
              "│ conv2d_6 (\u001b[38;5;33mConv2D\u001b[0m)               │ (\u001b[38;5;45mNone\u001b[0m, \u001b[38;5;34m28\u001b[0m, \u001b[38;5;34m28\u001b[0m, \u001b[38;5;34m256\u001b[0m)    │       \u001b[38;5;34m295,168\u001b[0m │\n",
              "├─────────────────────────────────┼────────────────────────┼───────────────┤\n",
              "│ batch_normalization_6           │ (\u001b[38;5;45mNone\u001b[0m, \u001b[38;5;34m28\u001b[0m, \u001b[38;5;34m28\u001b[0m, \u001b[38;5;34m256\u001b[0m)    │         \u001b[38;5;34m1,024\u001b[0m │\n",
              "│ (\u001b[38;5;33mBatchNormalization\u001b[0m)            │                        │               │\n",
              "├─────────────────────────────────┼────────────────────────┼───────────────┤\n",
              "│ conv2d_7 (\u001b[38;5;33mConv2D\u001b[0m)               │ (\u001b[38;5;45mNone\u001b[0m, \u001b[38;5;34m28\u001b[0m, \u001b[38;5;34m28\u001b[0m, \u001b[38;5;34m256\u001b[0m)    │       \u001b[38;5;34m590,080\u001b[0m │\n",
              "├─────────────────────────────────┼────────────────────────┼───────────────┤\n",
              "│ batch_normalization_7           │ (\u001b[38;5;45mNone\u001b[0m, \u001b[38;5;34m28\u001b[0m, \u001b[38;5;34m28\u001b[0m, \u001b[38;5;34m256\u001b[0m)    │         \u001b[38;5;34m1,024\u001b[0m │\n",
              "│ (\u001b[38;5;33mBatchNormalization\u001b[0m)            │                        │               │\n",
              "├─────────────────────────────────┼────────────────────────┼───────────────┤\n",
              "│ max_pooling2d_3 (\u001b[38;5;33mMaxPooling2D\u001b[0m)  │ (\u001b[38;5;45mNone\u001b[0m, \u001b[38;5;34m14\u001b[0m, \u001b[38;5;34m14\u001b[0m, \u001b[38;5;34m256\u001b[0m)    │             \u001b[38;5;34m0\u001b[0m │\n",
              "├─────────────────────────────────┼────────────────────────┼───────────────┤\n",
              "│ dropout_3 (\u001b[38;5;33mDropout\u001b[0m)             │ (\u001b[38;5;45mNone\u001b[0m, \u001b[38;5;34m14\u001b[0m, \u001b[38;5;34m14\u001b[0m, \u001b[38;5;34m256\u001b[0m)    │             \u001b[38;5;34m0\u001b[0m │\n",
              "├─────────────────────────────────┼────────────────────────┼───────────────┤\n",
              "│ flatten (\u001b[38;5;33mFlatten\u001b[0m)               │ (\u001b[38;5;45mNone\u001b[0m, \u001b[38;5;34m50176\u001b[0m)          │             \u001b[38;5;34m0\u001b[0m │\n",
              "├─────────────────────────────────┼────────────────────────┼───────────────┤\n",
              "│ dense (\u001b[38;5;33mDense\u001b[0m)                   │ (\u001b[38;5;45mNone\u001b[0m, \u001b[38;5;34m512\u001b[0m)            │    \u001b[38;5;34m25,690,624\u001b[0m │\n",
              "├─────────────────────────────────┼────────────────────────┼───────────────┤\n",
              "│ batch_normalization_8           │ (\u001b[38;5;45mNone\u001b[0m, \u001b[38;5;34m512\u001b[0m)            │         \u001b[38;5;34m2,048\u001b[0m │\n",
              "│ (\u001b[38;5;33mBatchNormalization\u001b[0m)            │                        │               │\n",
              "├─────────────────────────────────┼────────────────────────┼───────────────┤\n",
              "│ dropout_4 (\u001b[38;5;33mDropout\u001b[0m)             │ (\u001b[38;5;45mNone\u001b[0m, \u001b[38;5;34m512\u001b[0m)            │             \u001b[38;5;34m0\u001b[0m │\n",
              "├─────────────────────────────────┼────────────────────────┼───────────────┤\n",
              "│ dense_1 (\u001b[38;5;33mDense\u001b[0m)                 │ (\u001b[38;5;45mNone\u001b[0m, \u001b[38;5;34m256\u001b[0m)            │       \u001b[38;5;34m131,328\u001b[0m │\n",
              "├─────────────────────────────────┼────────────────────────┼───────────────┤\n",
              "│ batch_normalization_9           │ (\u001b[38;5;45mNone\u001b[0m, \u001b[38;5;34m256\u001b[0m)            │         \u001b[38;5;34m1,024\u001b[0m │\n",
              "│ (\u001b[38;5;33mBatchNormalization\u001b[0m)            │                        │               │\n",
              "├─────────────────────────────────┼────────────────────────┼───────────────┤\n",
              "│ dropout_5 (\u001b[38;5;33mDropout\u001b[0m)             │ (\u001b[38;5;45mNone\u001b[0m, \u001b[38;5;34m256\u001b[0m)            │             \u001b[38;5;34m0\u001b[0m │\n",
              "├─────────────────────────────────┼────────────────────────┼───────────────┤\n",
              "│ dense_2 (\u001b[38;5;33mDense\u001b[0m)                 │ (\u001b[38;5;45mNone\u001b[0m, \u001b[38;5;34m10\u001b[0m)             │         \u001b[38;5;34m2,570\u001b[0m │\n",
              "└─────────────────────────────────┴────────────────────────┴───────────────┘\n"
            ],
            "text/html": [
              "<pre style=\"white-space:pre;overflow-x:auto;line-height:normal;font-family:Menlo,'DejaVu Sans Mono',consolas,'Courier New',monospace\">┏━━━━━━━━━━━━━━━━━━━━━━━━━━━━━━━━━┳━━━━━━━━━━━━━━━━━━━━━━━━┳━━━━━━━━━━━━━━━┓\n",
              "┃<span style=\"font-weight: bold\"> Layer (type)                    </span>┃<span style=\"font-weight: bold\"> Output Shape           </span>┃<span style=\"font-weight: bold\">       Param # </span>┃\n",
              "┡━━━━━━━━━━━━━━━━━━━━━━━━━━━━━━━━━╇━━━━━━━━━━━━━━━━━━━━━━━━╇━━━━━━━━━━━━━━━┩\n",
              "│ conv2d (<span style=\"color: #0087ff; text-decoration-color: #0087ff\">Conv2D</span>)                 │ (<span style=\"color: #00d7ff; text-decoration-color: #00d7ff\">None</span>, <span style=\"color: #00af00; text-decoration-color: #00af00\">224</span>, <span style=\"color: #00af00; text-decoration-color: #00af00\">224</span>, <span style=\"color: #00af00; text-decoration-color: #00af00\">32</span>)   │           <span style=\"color: #00af00; text-decoration-color: #00af00\">896</span> │\n",
              "├─────────────────────────────────┼────────────────────────┼───────────────┤\n",
              "│ batch_normalization             │ (<span style=\"color: #00d7ff; text-decoration-color: #00d7ff\">None</span>, <span style=\"color: #00af00; text-decoration-color: #00af00\">224</span>, <span style=\"color: #00af00; text-decoration-color: #00af00\">224</span>, <span style=\"color: #00af00; text-decoration-color: #00af00\">32</span>)   │           <span style=\"color: #00af00; text-decoration-color: #00af00\">128</span> │\n",
              "│ (<span style=\"color: #0087ff; text-decoration-color: #0087ff\">BatchNormalization</span>)            │                        │               │\n",
              "├─────────────────────────────────┼────────────────────────┼───────────────┤\n",
              "│ conv2d_1 (<span style=\"color: #0087ff; text-decoration-color: #0087ff\">Conv2D</span>)               │ (<span style=\"color: #00d7ff; text-decoration-color: #00d7ff\">None</span>, <span style=\"color: #00af00; text-decoration-color: #00af00\">224</span>, <span style=\"color: #00af00; text-decoration-color: #00af00\">224</span>, <span style=\"color: #00af00; text-decoration-color: #00af00\">32</span>)   │         <span style=\"color: #00af00; text-decoration-color: #00af00\">9,248</span> │\n",
              "├─────────────────────────────────┼────────────────────────┼───────────────┤\n",
              "│ batch_normalization_1           │ (<span style=\"color: #00d7ff; text-decoration-color: #00d7ff\">None</span>, <span style=\"color: #00af00; text-decoration-color: #00af00\">224</span>, <span style=\"color: #00af00; text-decoration-color: #00af00\">224</span>, <span style=\"color: #00af00; text-decoration-color: #00af00\">32</span>)   │           <span style=\"color: #00af00; text-decoration-color: #00af00\">128</span> │\n",
              "│ (<span style=\"color: #0087ff; text-decoration-color: #0087ff\">BatchNormalization</span>)            │                        │               │\n",
              "├─────────────────────────────────┼────────────────────────┼───────────────┤\n",
              "│ max_pooling2d (<span style=\"color: #0087ff; text-decoration-color: #0087ff\">MaxPooling2D</span>)    │ (<span style=\"color: #00d7ff; text-decoration-color: #00d7ff\">None</span>, <span style=\"color: #00af00; text-decoration-color: #00af00\">112</span>, <span style=\"color: #00af00; text-decoration-color: #00af00\">112</span>, <span style=\"color: #00af00; text-decoration-color: #00af00\">32</span>)   │             <span style=\"color: #00af00; text-decoration-color: #00af00\">0</span> │\n",
              "├─────────────────────────────────┼────────────────────────┼───────────────┤\n",
              "│ dropout (<span style=\"color: #0087ff; text-decoration-color: #0087ff\">Dropout</span>)               │ (<span style=\"color: #00d7ff; text-decoration-color: #00d7ff\">None</span>, <span style=\"color: #00af00; text-decoration-color: #00af00\">112</span>, <span style=\"color: #00af00; text-decoration-color: #00af00\">112</span>, <span style=\"color: #00af00; text-decoration-color: #00af00\">32</span>)   │             <span style=\"color: #00af00; text-decoration-color: #00af00\">0</span> │\n",
              "├─────────────────────────────────┼────────────────────────┼───────────────┤\n",
              "│ conv2d_2 (<span style=\"color: #0087ff; text-decoration-color: #0087ff\">Conv2D</span>)               │ (<span style=\"color: #00d7ff; text-decoration-color: #00d7ff\">None</span>, <span style=\"color: #00af00; text-decoration-color: #00af00\">112</span>, <span style=\"color: #00af00; text-decoration-color: #00af00\">112</span>, <span style=\"color: #00af00; text-decoration-color: #00af00\">64</span>)   │        <span style=\"color: #00af00; text-decoration-color: #00af00\">18,496</span> │\n",
              "├─────────────────────────────────┼────────────────────────┼───────────────┤\n",
              "│ batch_normalization_2           │ (<span style=\"color: #00d7ff; text-decoration-color: #00d7ff\">None</span>, <span style=\"color: #00af00; text-decoration-color: #00af00\">112</span>, <span style=\"color: #00af00; text-decoration-color: #00af00\">112</span>, <span style=\"color: #00af00; text-decoration-color: #00af00\">64</span>)   │           <span style=\"color: #00af00; text-decoration-color: #00af00\">256</span> │\n",
              "│ (<span style=\"color: #0087ff; text-decoration-color: #0087ff\">BatchNormalization</span>)            │                        │               │\n",
              "├─────────────────────────────────┼────────────────────────┼───────────────┤\n",
              "│ conv2d_3 (<span style=\"color: #0087ff; text-decoration-color: #0087ff\">Conv2D</span>)               │ (<span style=\"color: #00d7ff; text-decoration-color: #00d7ff\">None</span>, <span style=\"color: #00af00; text-decoration-color: #00af00\">112</span>, <span style=\"color: #00af00; text-decoration-color: #00af00\">112</span>, <span style=\"color: #00af00; text-decoration-color: #00af00\">64</span>)   │        <span style=\"color: #00af00; text-decoration-color: #00af00\">36,928</span> │\n",
              "├─────────────────────────────────┼────────────────────────┼───────────────┤\n",
              "│ batch_normalization_3           │ (<span style=\"color: #00d7ff; text-decoration-color: #00d7ff\">None</span>, <span style=\"color: #00af00; text-decoration-color: #00af00\">112</span>, <span style=\"color: #00af00; text-decoration-color: #00af00\">112</span>, <span style=\"color: #00af00; text-decoration-color: #00af00\">64</span>)   │           <span style=\"color: #00af00; text-decoration-color: #00af00\">256</span> │\n",
              "│ (<span style=\"color: #0087ff; text-decoration-color: #0087ff\">BatchNormalization</span>)            │                        │               │\n",
              "├─────────────────────────────────┼────────────────────────┼───────────────┤\n",
              "│ max_pooling2d_1 (<span style=\"color: #0087ff; text-decoration-color: #0087ff\">MaxPooling2D</span>)  │ (<span style=\"color: #00d7ff; text-decoration-color: #00d7ff\">None</span>, <span style=\"color: #00af00; text-decoration-color: #00af00\">56</span>, <span style=\"color: #00af00; text-decoration-color: #00af00\">56</span>, <span style=\"color: #00af00; text-decoration-color: #00af00\">64</span>)     │             <span style=\"color: #00af00; text-decoration-color: #00af00\">0</span> │\n",
              "├─────────────────────────────────┼────────────────────────┼───────────────┤\n",
              "│ dropout_1 (<span style=\"color: #0087ff; text-decoration-color: #0087ff\">Dropout</span>)             │ (<span style=\"color: #00d7ff; text-decoration-color: #00d7ff\">None</span>, <span style=\"color: #00af00; text-decoration-color: #00af00\">56</span>, <span style=\"color: #00af00; text-decoration-color: #00af00\">56</span>, <span style=\"color: #00af00; text-decoration-color: #00af00\">64</span>)     │             <span style=\"color: #00af00; text-decoration-color: #00af00\">0</span> │\n",
              "├─────────────────────────────────┼────────────────────────┼───────────────┤\n",
              "│ conv2d_4 (<span style=\"color: #0087ff; text-decoration-color: #0087ff\">Conv2D</span>)               │ (<span style=\"color: #00d7ff; text-decoration-color: #00d7ff\">None</span>, <span style=\"color: #00af00; text-decoration-color: #00af00\">56</span>, <span style=\"color: #00af00; text-decoration-color: #00af00\">56</span>, <span style=\"color: #00af00; text-decoration-color: #00af00\">128</span>)    │        <span style=\"color: #00af00; text-decoration-color: #00af00\">73,856</span> │\n",
              "├─────────────────────────────────┼────────────────────────┼───────────────┤\n",
              "│ batch_normalization_4           │ (<span style=\"color: #00d7ff; text-decoration-color: #00d7ff\">None</span>, <span style=\"color: #00af00; text-decoration-color: #00af00\">56</span>, <span style=\"color: #00af00; text-decoration-color: #00af00\">56</span>, <span style=\"color: #00af00; text-decoration-color: #00af00\">128</span>)    │           <span style=\"color: #00af00; text-decoration-color: #00af00\">512</span> │\n",
              "│ (<span style=\"color: #0087ff; text-decoration-color: #0087ff\">BatchNormalization</span>)            │                        │               │\n",
              "├─────────────────────────────────┼────────────────────────┼───────────────┤\n",
              "│ conv2d_5 (<span style=\"color: #0087ff; text-decoration-color: #0087ff\">Conv2D</span>)               │ (<span style=\"color: #00d7ff; text-decoration-color: #00d7ff\">None</span>, <span style=\"color: #00af00; text-decoration-color: #00af00\">56</span>, <span style=\"color: #00af00; text-decoration-color: #00af00\">56</span>, <span style=\"color: #00af00; text-decoration-color: #00af00\">128</span>)    │       <span style=\"color: #00af00; text-decoration-color: #00af00\">147,584</span> │\n",
              "├─────────────────────────────────┼────────────────────────┼───────────────┤\n",
              "│ batch_normalization_5           │ (<span style=\"color: #00d7ff; text-decoration-color: #00d7ff\">None</span>, <span style=\"color: #00af00; text-decoration-color: #00af00\">56</span>, <span style=\"color: #00af00; text-decoration-color: #00af00\">56</span>, <span style=\"color: #00af00; text-decoration-color: #00af00\">128</span>)    │           <span style=\"color: #00af00; text-decoration-color: #00af00\">512</span> │\n",
              "│ (<span style=\"color: #0087ff; text-decoration-color: #0087ff\">BatchNormalization</span>)            │                        │               │\n",
              "├─────────────────────────────────┼────────────────────────┼───────────────┤\n",
              "│ max_pooling2d_2 (<span style=\"color: #0087ff; text-decoration-color: #0087ff\">MaxPooling2D</span>)  │ (<span style=\"color: #00d7ff; text-decoration-color: #00d7ff\">None</span>, <span style=\"color: #00af00; text-decoration-color: #00af00\">28</span>, <span style=\"color: #00af00; text-decoration-color: #00af00\">28</span>, <span style=\"color: #00af00; text-decoration-color: #00af00\">128</span>)    │             <span style=\"color: #00af00; text-decoration-color: #00af00\">0</span> │\n",
              "├─────────────────────────────────┼────────────────────────┼───────────────┤\n",
              "│ dropout_2 (<span style=\"color: #0087ff; text-decoration-color: #0087ff\">Dropout</span>)             │ (<span style=\"color: #00d7ff; text-decoration-color: #00d7ff\">None</span>, <span style=\"color: #00af00; text-decoration-color: #00af00\">28</span>, <span style=\"color: #00af00; text-decoration-color: #00af00\">28</span>, <span style=\"color: #00af00; text-decoration-color: #00af00\">128</span>)    │             <span style=\"color: #00af00; text-decoration-color: #00af00\">0</span> │\n",
              "├─────────────────────────────────┼────────────────────────┼───────────────┤\n",
              "│ conv2d_6 (<span style=\"color: #0087ff; text-decoration-color: #0087ff\">Conv2D</span>)               │ (<span style=\"color: #00d7ff; text-decoration-color: #00d7ff\">None</span>, <span style=\"color: #00af00; text-decoration-color: #00af00\">28</span>, <span style=\"color: #00af00; text-decoration-color: #00af00\">28</span>, <span style=\"color: #00af00; text-decoration-color: #00af00\">256</span>)    │       <span style=\"color: #00af00; text-decoration-color: #00af00\">295,168</span> │\n",
              "├─────────────────────────────────┼────────────────────────┼───────────────┤\n",
              "│ batch_normalization_6           │ (<span style=\"color: #00d7ff; text-decoration-color: #00d7ff\">None</span>, <span style=\"color: #00af00; text-decoration-color: #00af00\">28</span>, <span style=\"color: #00af00; text-decoration-color: #00af00\">28</span>, <span style=\"color: #00af00; text-decoration-color: #00af00\">256</span>)    │         <span style=\"color: #00af00; text-decoration-color: #00af00\">1,024</span> │\n",
              "│ (<span style=\"color: #0087ff; text-decoration-color: #0087ff\">BatchNormalization</span>)            │                        │               │\n",
              "├─────────────────────────────────┼────────────────────────┼───────────────┤\n",
              "│ conv2d_7 (<span style=\"color: #0087ff; text-decoration-color: #0087ff\">Conv2D</span>)               │ (<span style=\"color: #00d7ff; text-decoration-color: #00d7ff\">None</span>, <span style=\"color: #00af00; text-decoration-color: #00af00\">28</span>, <span style=\"color: #00af00; text-decoration-color: #00af00\">28</span>, <span style=\"color: #00af00; text-decoration-color: #00af00\">256</span>)    │       <span style=\"color: #00af00; text-decoration-color: #00af00\">590,080</span> │\n",
              "├─────────────────────────────────┼────────────────────────┼───────────────┤\n",
              "│ batch_normalization_7           │ (<span style=\"color: #00d7ff; text-decoration-color: #00d7ff\">None</span>, <span style=\"color: #00af00; text-decoration-color: #00af00\">28</span>, <span style=\"color: #00af00; text-decoration-color: #00af00\">28</span>, <span style=\"color: #00af00; text-decoration-color: #00af00\">256</span>)    │         <span style=\"color: #00af00; text-decoration-color: #00af00\">1,024</span> │\n",
              "│ (<span style=\"color: #0087ff; text-decoration-color: #0087ff\">BatchNormalization</span>)            │                        │               │\n",
              "├─────────────────────────────────┼────────────────────────┼───────────────┤\n",
              "│ max_pooling2d_3 (<span style=\"color: #0087ff; text-decoration-color: #0087ff\">MaxPooling2D</span>)  │ (<span style=\"color: #00d7ff; text-decoration-color: #00d7ff\">None</span>, <span style=\"color: #00af00; text-decoration-color: #00af00\">14</span>, <span style=\"color: #00af00; text-decoration-color: #00af00\">14</span>, <span style=\"color: #00af00; text-decoration-color: #00af00\">256</span>)    │             <span style=\"color: #00af00; text-decoration-color: #00af00\">0</span> │\n",
              "├─────────────────────────────────┼────────────────────────┼───────────────┤\n",
              "│ dropout_3 (<span style=\"color: #0087ff; text-decoration-color: #0087ff\">Dropout</span>)             │ (<span style=\"color: #00d7ff; text-decoration-color: #00d7ff\">None</span>, <span style=\"color: #00af00; text-decoration-color: #00af00\">14</span>, <span style=\"color: #00af00; text-decoration-color: #00af00\">14</span>, <span style=\"color: #00af00; text-decoration-color: #00af00\">256</span>)    │             <span style=\"color: #00af00; text-decoration-color: #00af00\">0</span> │\n",
              "├─────────────────────────────────┼────────────────────────┼───────────────┤\n",
              "│ flatten (<span style=\"color: #0087ff; text-decoration-color: #0087ff\">Flatten</span>)               │ (<span style=\"color: #00d7ff; text-decoration-color: #00d7ff\">None</span>, <span style=\"color: #00af00; text-decoration-color: #00af00\">50176</span>)          │             <span style=\"color: #00af00; text-decoration-color: #00af00\">0</span> │\n",
              "├─────────────────────────────────┼────────────────────────┼───────────────┤\n",
              "│ dense (<span style=\"color: #0087ff; text-decoration-color: #0087ff\">Dense</span>)                   │ (<span style=\"color: #00d7ff; text-decoration-color: #00d7ff\">None</span>, <span style=\"color: #00af00; text-decoration-color: #00af00\">512</span>)            │    <span style=\"color: #00af00; text-decoration-color: #00af00\">25,690,624</span> │\n",
              "├─────────────────────────────────┼────────────────────────┼───────────────┤\n",
              "│ batch_normalization_8           │ (<span style=\"color: #00d7ff; text-decoration-color: #00d7ff\">None</span>, <span style=\"color: #00af00; text-decoration-color: #00af00\">512</span>)            │         <span style=\"color: #00af00; text-decoration-color: #00af00\">2,048</span> │\n",
              "│ (<span style=\"color: #0087ff; text-decoration-color: #0087ff\">BatchNormalization</span>)            │                        │               │\n",
              "├─────────────────────────────────┼────────────────────────┼───────────────┤\n",
              "│ dropout_4 (<span style=\"color: #0087ff; text-decoration-color: #0087ff\">Dropout</span>)             │ (<span style=\"color: #00d7ff; text-decoration-color: #00d7ff\">None</span>, <span style=\"color: #00af00; text-decoration-color: #00af00\">512</span>)            │             <span style=\"color: #00af00; text-decoration-color: #00af00\">0</span> │\n",
              "├─────────────────────────────────┼────────────────────────┼───────────────┤\n",
              "│ dense_1 (<span style=\"color: #0087ff; text-decoration-color: #0087ff\">Dense</span>)                 │ (<span style=\"color: #00d7ff; text-decoration-color: #00d7ff\">None</span>, <span style=\"color: #00af00; text-decoration-color: #00af00\">256</span>)            │       <span style=\"color: #00af00; text-decoration-color: #00af00\">131,328</span> │\n",
              "├─────────────────────────────────┼────────────────────────┼───────────────┤\n",
              "│ batch_normalization_9           │ (<span style=\"color: #00d7ff; text-decoration-color: #00d7ff\">None</span>, <span style=\"color: #00af00; text-decoration-color: #00af00\">256</span>)            │         <span style=\"color: #00af00; text-decoration-color: #00af00\">1,024</span> │\n",
              "│ (<span style=\"color: #0087ff; text-decoration-color: #0087ff\">BatchNormalization</span>)            │                        │               │\n",
              "├─────────────────────────────────┼────────────────────────┼───────────────┤\n",
              "│ dropout_5 (<span style=\"color: #0087ff; text-decoration-color: #0087ff\">Dropout</span>)             │ (<span style=\"color: #00d7ff; text-decoration-color: #00d7ff\">None</span>, <span style=\"color: #00af00; text-decoration-color: #00af00\">256</span>)            │             <span style=\"color: #00af00; text-decoration-color: #00af00\">0</span> │\n",
              "├─────────────────────────────────┼────────────────────────┼───────────────┤\n",
              "│ dense_2 (<span style=\"color: #0087ff; text-decoration-color: #0087ff\">Dense</span>)                 │ (<span style=\"color: #00d7ff; text-decoration-color: #00d7ff\">None</span>, <span style=\"color: #00af00; text-decoration-color: #00af00\">10</span>)             │         <span style=\"color: #00af00; text-decoration-color: #00af00\">2,570</span> │\n",
              "└─────────────────────────────────┴────────────────────────┴───────────────┘\n",
              "</pre>\n"
            ]
          },
          "metadata": {}
        },
        {
          "output_type": "display_data",
          "data": {
            "text/plain": [
              "\u001b[1m Total params: \u001b[0m\u001b[38;5;34m27,003,690\u001b[0m (103.01 MB)\n"
            ],
            "text/html": [
              "<pre style=\"white-space:pre;overflow-x:auto;line-height:normal;font-family:Menlo,'DejaVu Sans Mono',consolas,'Courier New',monospace\"><span style=\"font-weight: bold\"> Total params: </span><span style=\"color: #00af00; text-decoration-color: #00af00\">27,003,690</span> (103.01 MB)\n",
              "</pre>\n"
            ]
          },
          "metadata": {}
        },
        {
          "output_type": "display_data",
          "data": {
            "text/plain": [
              "\u001b[1m Trainable params: \u001b[0m\u001b[38;5;34m27,000,234\u001b[0m (103.00 MB)\n"
            ],
            "text/html": [
              "<pre style=\"white-space:pre;overflow-x:auto;line-height:normal;font-family:Menlo,'DejaVu Sans Mono',consolas,'Courier New',monospace\"><span style=\"font-weight: bold\"> Trainable params: </span><span style=\"color: #00af00; text-decoration-color: #00af00\">27,000,234</span> (103.00 MB)\n",
              "</pre>\n"
            ]
          },
          "metadata": {}
        },
        {
          "output_type": "display_data",
          "data": {
            "text/plain": [
              "\u001b[1m Non-trainable params: \u001b[0m\u001b[38;5;34m3,456\u001b[0m (13.50 KB)\n"
            ],
            "text/html": [
              "<pre style=\"white-space:pre;overflow-x:auto;line-height:normal;font-family:Menlo,'DejaVu Sans Mono',consolas,'Courier New',monospace\"><span style=\"font-weight: bold\"> Non-trainable params: </span><span style=\"color: #00af00; text-decoration-color: #00af00\">3,456</span> (13.50 KB)\n",
              "</pre>\n"
            ]
          },
          "metadata": {}
        }
      ]
    },
    {
      "cell_type": "markdown",
      "source": [
        "#Callback ngay khi overfitting hoặc không cải thiện được accuracy nữa"
      ],
      "metadata": {
        "id": "FMJaM4amD--0"
      },
      "id": "FMJaM4amD--0"
    },
    {
      "cell_type": "code",
      "source": [
        "\n",
        "callbacks = [\n",
        "    keras.callbacks.EarlyStopping(\n",
        "        monitor='val_accuracy',\n",
        "        patience=5,\n",
        "        restore_best_weights=True,\n",
        "        verbose=1\n",
        "    ),\n",
        "    keras.callbacks.ReduceLROnPlateau(\n",
        "        monitor='val_loss',\n",
        "        factor=0.5,\n",
        "        patience=3,\n",
        "        min_lr=1e-7,\n",
        "        verbose=1\n",
        "    ),\n",
        "    keras.callbacks.ModelCheckpoint(\n",
        "        'best_skin_disease_model.h5',\n",
        "        monitor='val_accuracy',\n",
        "        save_best_only=True,\n",
        "        mode='max',\n",
        "        verbose=1\n",
        "    )\n",
        "]"
      ],
      "metadata": {
        "id": "vbZdVqclDyiD"
      },
      "id": "vbZdVqclDyiD",
      "execution_count": 25,
      "outputs": []
    },
    {
      "cell_type": "markdown",
      "source": [
        "#Thực hiện Train MODEL"
      ],
      "metadata": {
        "id": "Jz3AdO-BEK72"
      },
      "id": "Jz3AdO-BEK72"
    },
    {
      "cell_type": "code",
      "source": [
        "history = model.fit(\n",
        "    train_generator,\n",
        "    epochs=EPOCHS,\n",
        "    validation_data=validation_generator,\n",
        "    callbacks=callbacks,\n",
        "    verbose=1\n",
        ")"
      ],
      "metadata": {
        "id": "Qtm8GX15ENVH",
        "outputId": "538e0561-deeb-4c25-bafd-e9f25b8a4df5",
        "colab": {
          "base_uri": "https://localhost:8080/",
          "height": 584
        }
      },
      "id": "Qtm8GX15ENVH",
      "execution_count": 28,
      "outputs": [
        {
          "output_type": "stream",
          "name": "stdout",
          "text": [
            "Epoch 1/10\n",
            "\u001b[1m544/544\u001b[0m \u001b[32m━━━━━━━━━━━━━━━━━━━━\u001b[0m\u001b[37m\u001b[0m \u001b[1m0s\u001b[0m 591ms/step - accuracy: 0.4675 - loss: 1.4928\n",
            "Epoch 1: val_accuracy improved from -inf to 0.26982, saving model to best_skin_disease_model.h5\n"
          ]
        },
        {
          "output_type": "stream",
          "name": "stderr",
          "text": [
            "WARNING:absl:You are saving your model as an HDF5 file via `model.save()` or `keras.saving.save_model(model)`. This file format is considered legacy. We recommend using instead the native Keras format, e.g. `model.save('my_model.keras')` or `keras.saving.save_model(model, 'my_model.keras')`. \n"
          ]
        },
        {
          "output_type": "stream",
          "name": "stdout",
          "text": [
            "\b\b\b\b\b\b\b\b\b\b\b\b\b\b\b\b\b\b\b\b\b\b\b\b\b\b\b\b\b\b\b\b\b\b\b\b\b\b\b\b\b\b\b\b\b\b\b\b\b\b\b\b\b\b\b\b\b\b\b\b\b\b\b\b\b\b\b\b\b\b\b\b\b\b\b\b\r\u001b[1m544/544\u001b[0m \u001b[32m━━━━━━━━━━━━━━━━━━━━\u001b[0m\u001b[37m\u001b[0m \u001b[1m404s\u001b[0m 742ms/step - accuracy: 0.4675 - loss: 1.4927 - val_accuracy: 0.2698 - val_loss: 2.3385 - learning_rate: 0.0010\n",
            "Epoch 2/10\n",
            "\u001b[1m544/544\u001b[0m \u001b[32m━━━━━━━━━━━━━━━━━━━━\u001b[0m\u001b[37m\u001b[0m \u001b[1m0s\u001b[0m 539ms/step - accuracy: 0.5290 - loss: 1.2432\n",
            "Epoch 2: val_accuracy improved from 0.26982 to 0.28318, saving model to best_skin_disease_model.h5\n"
          ]
        },
        {
          "output_type": "stream",
          "name": "stderr",
          "text": [
            "WARNING:absl:You are saving your model as an HDF5 file via `model.save()` or `keras.saving.save_model(model)`. This file format is considered legacy. We recommend using instead the native Keras format, e.g. `model.save('my_model.keras')` or `keras.saving.save_model(model, 'my_model.keras')`. \n"
          ]
        },
        {
          "output_type": "stream",
          "name": "stdout",
          "text": [
            "\b\b\b\b\b\b\b\b\b\b\b\b\b\b\b\b\b\b\b\b\b\b\b\b\b\b\b\b\b\b\b\b\b\b\b\b\b\b\b\b\b\b\b\b\b\b\b\b\b\b\b\b\b\b\b\b\b\b\b\b\b\b\b\b\b\b\b\b\b\b\b\b\b\b\b\b\r\u001b[1m544/544\u001b[0m \u001b[32m━━━━━━━━━━━━━━━━━━━━\u001b[0m\u001b[37m\u001b[0m \u001b[1m363s\u001b[0m 666ms/step - accuracy: 0.5291 - loss: 1.2432 - val_accuracy: 0.2832 - val_loss: 2.1566 - learning_rate: 0.0010\n",
            "Epoch 3/10\n",
            "\u001b[1m 69/544\u001b[0m \u001b[32m━━\u001b[0m\u001b[37m━━━━━━━━━━━━━━━━━━\u001b[0m \u001b[1m4:15\u001b[0m 538ms/step - accuracy: 0.5467 - loss: 1.2088"
          ]
        },
        {
          "output_type": "error",
          "ename": "KeyboardInterrupt",
          "evalue": "",
          "traceback": [
            "\u001b[0;31m---------------------------------------------------------------------------\u001b[0m",
            "\u001b[0;31mKeyboardInterrupt\u001b[0m                         Traceback (most recent call last)",
            "\u001b[0;32m/tmp/ipython-input-929719712.py\u001b[0m in \u001b[0;36m<cell line: 0>\u001b[0;34m()\u001b[0m\n\u001b[0;32m----> 1\u001b[0;31m history = model.fit(\n\u001b[0m\u001b[1;32m      2\u001b[0m     \u001b[0mtrain_generator\u001b[0m\u001b[0;34m,\u001b[0m\u001b[0;34m\u001b[0m\u001b[0;34m\u001b[0m\u001b[0m\n\u001b[1;32m      3\u001b[0m     \u001b[0mepochs\u001b[0m\u001b[0;34m=\u001b[0m\u001b[0mEPOCHS\u001b[0m\u001b[0;34m,\u001b[0m\u001b[0;34m\u001b[0m\u001b[0;34m\u001b[0m\u001b[0m\n\u001b[1;32m      4\u001b[0m     \u001b[0mvalidation_data\u001b[0m\u001b[0;34m=\u001b[0m\u001b[0mvalidation_generator\u001b[0m\u001b[0;34m,\u001b[0m\u001b[0;34m\u001b[0m\u001b[0;34m\u001b[0m\u001b[0m\n\u001b[1;32m      5\u001b[0m     \u001b[0mcallbacks\u001b[0m\u001b[0;34m=\u001b[0m\u001b[0mcallbacks\u001b[0m\u001b[0;34m,\u001b[0m\u001b[0;34m\u001b[0m\u001b[0;34m\u001b[0m\u001b[0m\n",
            "\u001b[0;32m/usr/local/lib/python3.12/dist-packages/keras/src/utils/traceback_utils.py\u001b[0m in \u001b[0;36merror_handler\u001b[0;34m(*args, **kwargs)\u001b[0m\n\u001b[1;32m    115\u001b[0m         \u001b[0mfiltered_tb\u001b[0m \u001b[0;34m=\u001b[0m \u001b[0;32mNone\u001b[0m\u001b[0;34m\u001b[0m\u001b[0;34m\u001b[0m\u001b[0m\n\u001b[1;32m    116\u001b[0m         \u001b[0;32mtry\u001b[0m\u001b[0;34m:\u001b[0m\u001b[0;34m\u001b[0m\u001b[0;34m\u001b[0m\u001b[0m\n\u001b[0;32m--> 117\u001b[0;31m             \u001b[0;32mreturn\u001b[0m \u001b[0mfn\u001b[0m\u001b[0;34m(\u001b[0m\u001b[0;34m*\u001b[0m\u001b[0margs\u001b[0m\u001b[0;34m,\u001b[0m \u001b[0;34m**\u001b[0m\u001b[0mkwargs\u001b[0m\u001b[0;34m)\u001b[0m\u001b[0;34m\u001b[0m\u001b[0;34m\u001b[0m\u001b[0m\n\u001b[0m\u001b[1;32m    118\u001b[0m         \u001b[0;32mexcept\u001b[0m \u001b[0mException\u001b[0m \u001b[0;32mas\u001b[0m \u001b[0me\u001b[0m\u001b[0;34m:\u001b[0m\u001b[0;34m\u001b[0m\u001b[0;34m\u001b[0m\u001b[0m\n\u001b[1;32m    119\u001b[0m             \u001b[0mfiltered_tb\u001b[0m \u001b[0;34m=\u001b[0m \u001b[0m_process_traceback_frames\u001b[0m\u001b[0;34m(\u001b[0m\u001b[0me\u001b[0m\u001b[0;34m.\u001b[0m\u001b[0m__traceback__\u001b[0m\u001b[0;34m)\u001b[0m\u001b[0;34m\u001b[0m\u001b[0;34m\u001b[0m\u001b[0m\n",
            "\u001b[0;32m/usr/local/lib/python3.12/dist-packages/keras/src/backend/tensorflow/trainer.py\u001b[0m in \u001b[0;36mfit\u001b[0;34m(self, x, y, batch_size, epochs, verbose, callbacks, validation_split, validation_data, shuffle, class_weight, sample_weight, initial_epoch, steps_per_epoch, validation_steps, validation_batch_size, validation_freq)\u001b[0m\n\u001b[1;32m    375\u001b[0m                 \u001b[0;32mfor\u001b[0m \u001b[0mstep\u001b[0m\u001b[0;34m,\u001b[0m \u001b[0miterator\u001b[0m \u001b[0;32min\u001b[0m \u001b[0mepoch_iterator\u001b[0m\u001b[0;34m:\u001b[0m\u001b[0;34m\u001b[0m\u001b[0;34m\u001b[0m\u001b[0m\n\u001b[1;32m    376\u001b[0m                     \u001b[0mcallbacks\u001b[0m\u001b[0;34m.\u001b[0m\u001b[0mon_train_batch_begin\u001b[0m\u001b[0;34m(\u001b[0m\u001b[0mstep\u001b[0m\u001b[0;34m)\u001b[0m\u001b[0;34m\u001b[0m\u001b[0;34m\u001b[0m\u001b[0m\n\u001b[0;32m--> 377\u001b[0;31m                     \u001b[0mlogs\u001b[0m \u001b[0;34m=\u001b[0m \u001b[0mself\u001b[0m\u001b[0;34m.\u001b[0m\u001b[0mtrain_function\u001b[0m\u001b[0;34m(\u001b[0m\u001b[0miterator\u001b[0m\u001b[0;34m)\u001b[0m\u001b[0;34m\u001b[0m\u001b[0;34m\u001b[0m\u001b[0m\n\u001b[0m\u001b[1;32m    378\u001b[0m                     \u001b[0mcallbacks\u001b[0m\u001b[0;34m.\u001b[0m\u001b[0mon_train_batch_end\u001b[0m\u001b[0;34m(\u001b[0m\u001b[0mstep\u001b[0m\u001b[0;34m,\u001b[0m \u001b[0mlogs\u001b[0m\u001b[0;34m)\u001b[0m\u001b[0;34m\u001b[0m\u001b[0;34m\u001b[0m\u001b[0m\n\u001b[1;32m    379\u001b[0m                     \u001b[0;32mif\u001b[0m \u001b[0mself\u001b[0m\u001b[0;34m.\u001b[0m\u001b[0mstop_training\u001b[0m\u001b[0;34m:\u001b[0m\u001b[0;34m\u001b[0m\u001b[0;34m\u001b[0m\u001b[0m\n",
            "\u001b[0;32m/usr/local/lib/python3.12/dist-packages/keras/src/backend/tensorflow/trainer.py\u001b[0m in \u001b[0;36mfunction\u001b[0;34m(iterator)\u001b[0m\n\u001b[1;32m    219\u001b[0m             ):\n\u001b[1;32m    220\u001b[0m                 \u001b[0mopt_outputs\u001b[0m \u001b[0;34m=\u001b[0m \u001b[0mmulti_step_on_iterator\u001b[0m\u001b[0;34m(\u001b[0m\u001b[0miterator\u001b[0m\u001b[0;34m)\u001b[0m\u001b[0;34m\u001b[0m\u001b[0;34m\u001b[0m\u001b[0m\n\u001b[0;32m--> 221\u001b[0;31m                 \u001b[0;32mif\u001b[0m \u001b[0;32mnot\u001b[0m \u001b[0mopt_outputs\u001b[0m\u001b[0;34m.\u001b[0m\u001b[0mhas_value\u001b[0m\u001b[0;34m(\u001b[0m\u001b[0;34m)\u001b[0m\u001b[0;34m:\u001b[0m\u001b[0;34m\u001b[0m\u001b[0;34m\u001b[0m\u001b[0m\n\u001b[0m\u001b[1;32m    222\u001b[0m                     \u001b[0;32mraise\u001b[0m \u001b[0mStopIteration\u001b[0m\u001b[0;34m\u001b[0m\u001b[0;34m\u001b[0m\u001b[0m\n\u001b[1;32m    223\u001b[0m                 \u001b[0;32mreturn\u001b[0m \u001b[0mopt_outputs\u001b[0m\u001b[0;34m.\u001b[0m\u001b[0mget_value\u001b[0m\u001b[0;34m(\u001b[0m\u001b[0;34m)\u001b[0m\u001b[0;34m\u001b[0m\u001b[0;34m\u001b[0m\u001b[0m\n",
            "\u001b[0;32m/usr/local/lib/python3.12/dist-packages/tensorflow/python/data/ops/optional_ops.py\u001b[0m in \u001b[0;36mhas_value\u001b[0;34m(self, name)\u001b[0m\n\u001b[1;32m    174\u001b[0m   \u001b[0;32mdef\u001b[0m \u001b[0mhas_value\u001b[0m\u001b[0;34m(\u001b[0m\u001b[0mself\u001b[0m\u001b[0;34m,\u001b[0m \u001b[0mname\u001b[0m\u001b[0;34m=\u001b[0m\u001b[0;32mNone\u001b[0m\u001b[0;34m)\u001b[0m\u001b[0;34m:\u001b[0m\u001b[0;34m\u001b[0m\u001b[0;34m\u001b[0m\u001b[0m\n\u001b[1;32m    175\u001b[0m     \u001b[0;32mwith\u001b[0m \u001b[0mops\u001b[0m\u001b[0;34m.\u001b[0m\u001b[0mcolocate_with\u001b[0m\u001b[0;34m(\u001b[0m\u001b[0mself\u001b[0m\u001b[0;34m.\u001b[0m\u001b[0m_variant_tensor\u001b[0m\u001b[0;34m)\u001b[0m\u001b[0;34m:\u001b[0m\u001b[0;34m\u001b[0m\u001b[0;34m\u001b[0m\u001b[0m\n\u001b[0;32m--> 176\u001b[0;31m       return gen_optional_ops.optional_has_value(\n\u001b[0m\u001b[1;32m    177\u001b[0m           \u001b[0mself\u001b[0m\u001b[0;34m.\u001b[0m\u001b[0m_variant_tensor\u001b[0m\u001b[0;34m,\u001b[0m \u001b[0mname\u001b[0m\u001b[0;34m=\u001b[0m\u001b[0mname\u001b[0m\u001b[0;34m\u001b[0m\u001b[0;34m\u001b[0m\u001b[0m\n\u001b[1;32m    178\u001b[0m       )\n",
            "\u001b[0;32m/usr/local/lib/python3.12/dist-packages/tensorflow/python/ops/gen_optional_ops.py\u001b[0m in \u001b[0;36moptional_has_value\u001b[0;34m(optional, name)\u001b[0m\n\u001b[1;32m    170\u001b[0m   \u001b[0;32mif\u001b[0m \u001b[0mtld\u001b[0m\u001b[0;34m.\u001b[0m\u001b[0mis_eager\u001b[0m\u001b[0;34m:\u001b[0m\u001b[0;34m\u001b[0m\u001b[0;34m\u001b[0m\u001b[0m\n\u001b[1;32m    171\u001b[0m     \u001b[0;32mtry\u001b[0m\u001b[0;34m:\u001b[0m\u001b[0;34m\u001b[0m\u001b[0;34m\u001b[0m\u001b[0m\n\u001b[0;32m--> 172\u001b[0;31m       _result = pywrap_tfe.TFE_Py_FastPathExecute(\n\u001b[0m\u001b[1;32m    173\u001b[0m         _ctx, \"OptionalHasValue\", name, optional)\n\u001b[1;32m    174\u001b[0m       \u001b[0;32mreturn\u001b[0m \u001b[0m_result\u001b[0m\u001b[0;34m\u001b[0m\u001b[0;34m\u001b[0m\u001b[0m\n",
            "\u001b[0;31mKeyboardInterrupt\u001b[0m: "
          ]
        }
      ]
    },
    {
      "cell_type": "code",
      "source": [],
      "metadata": {
        "id": "hO5EzIiAa3ZV"
      },
      "id": "hO5EzIiAa3ZV",
      "execution_count": null,
      "outputs": []
    }
  ],
  "metadata": {
    "kernelspec": {
      "display_name": "Python 3",
      "name": "python3"
    },
    "language_info": {
      "codemirror_mode": {
        "name": "ipython",
        "version": 2
      },
      "file_extension": ".py",
      "mimetype": "text/x-python",
      "name": "python",
      "nbconvert_exporter": "python",
      "pygments_lexer": "ipython2",
      "version": "2.7.6"
    },
    "colab": {
      "provenance": [],
      "gpuType": "T4"
    },
    "accelerator": "GPU"
  },
  "nbformat": 4,
  "nbformat_minor": 5
}