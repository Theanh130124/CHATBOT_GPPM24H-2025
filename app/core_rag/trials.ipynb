{
  "cells": [
    {
      "metadata": {
        "id": "83cfc4fc75ede6d5"
      },
      "cell_type": "raw",
      "source": [
        "Load dataset"
      ],
      "id": "83cfc4fc75ede6d5"
    },
    {
      "cell_type": "markdown",
      "source": [],
      "metadata": {
        "id": "TrUyhpFKlCu0"
      },
      "id": "TrUyhpFKlCu0"
    }
  ],
  "metadata": {
    "kernelspec": {
      "display_name": "Python 3",
      "language": "python",
      "name": "python3"
    },
    "language_info": {
      "codemirror_mode": {
        "name": "ipython",
        "version": 2
      },
      "file_extension": ".py",
      "mimetype": "text/x-python",
      "name": "python",
      "nbconvert_exporter": "python",
      "pygments_lexer": "ipython2",
      "version": "2.7.6"
    },
    "colab": {
      "provenance": []
    }
  },
  "nbformat": 4,
  "nbformat_minor": 5
}